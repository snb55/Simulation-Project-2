{
 "cells": [
  {
   "cell_type": "markdown",
   "metadata": {
    "id": "yEYDm_ICb4GC"
   },
   "source": [
    "# ORIE 4580/5580/5581 Assignment 5\n",
    "\n",
    "\n",
    "#### Students: Sean Benko (snb55) Sean Hansen (seh92)\n",
    "\n",
    "References:\n",
    "Grinstead and Snell, ChatGPT\n",
    "\n",
    "\n",
    "### Github link: [example Github link](https://github.com/SidBanerjee/ORIE4580-Simulation/blob/main/Notebooks/Unit0-Intro_Demos.ipynb)\n"
   ]
  },
  {
   "cell_type": "markdown",
   "metadata": {
    "id": "l3G_wUFRg9v6"
   },
   "source": [
    "### Instructions\n",
    "\n",
    "\n",
    "* Due Friday, October 13, at 11.59am on Gradescope.\n",
    "* Assignment .ipynb files available for download on [Canvas](https://canvas.cornell.edu/courses/56826#:~:text=Assignments-,Assignments,-Assignments%20Module%20publish). Do all your work in provided notebook (text answers typeset in markdown; show all required code and generate plots inline), and then generate and submit a pdf.\n",
    "* Ideally do assignments in groups of 2, and submit a single pdf with both names\n",
    "* Please show your work and clearly mark your answers.\n",
    "* You can use any code fragments given in class, found online (for example, on StackOverflow), or generated via Bard or ChatGPT (you are encouraged to use these for first drafts) **with proper referencing**. You can also discuss with others (again, please reference them if you do so); but you must write your final answers on your own as a team.\n",
    "\n",
    "\n",
    "\n",
    "### Suggested reading\n",
    "\n",
    "Chapters 8 (all parts) and 9 (up to Section 9.2 for the midterm) of [Simulation by Ross](https://catalog.library.cornell.edu/catalog/12745977)."
   ]
  },
  {
   "cell_type": "markdown",
   "metadata": {
    "id": "5AMJpIgg0AUP"
   },
   "source": [
    "\n",
    "\n",
    "\n",
    "---\n",
    "---\n",
    "\n",
    "\n",
    "# Question 1: Red-Tailed Hawks! (15 points)\n",
    "\n",
    "(Dedicated to [Big Red and Arthur](https://www.youtube.com/watch?v=diIn5tc8AJo), and their amazing family!)\n",
    "\n",
    "A School of Ornithology researcher wants to estimate the number of red-tailed hawks in Ithaca. She radio tags 10 birds, and then sets up a feeding station with automatic camera.\n",
    "\n",
    "The researcher believes that each individual bird's visits to the feeder can be modeled as a *Poisson process* with some unknown rate $\\lambda$; we will talk more about the Poisson process in detail later in the semester (for a quick refresher, see Section 2.9.4 of Ross), but for this question, the main thing you need to know is that this is a process that counts a discrete number of arrivals, where the *inter-arrival* between one arrival and the next is independent and identically distributed as an Exponential$(\\lambda)$ random variable (similar to the trains in question 5b in the previous assignment).\n",
    "\n",
    "**(a)**\n",
    "Over the first five weeks, the researcher observes an average of 28.8 birds (tagged and untagged) visiting the feeder, with an average of 6 tagged birds per week. Use the method of moments to obtain an estimate for the total population."
   ]
  },
  {
   "cell_type": "markdown",
   "metadata": {
    "id": "FdZFPY8J00Nz"
   },
   "source": [
    "___\n",
    "## Ans.\n",
    "$\\lambda = 28.8$\n",
    "\n",
    "We have 10 tagged birds out of the whole poluation.\n",
    "We've seen 6 tagged out of a rate of lambda.\n",
    "\n",
    "Thus we solve for b\n",
    "$\\lambda\\frac{10}{b}=6$\n",
    "\n",
    "Thus, the answer is $28.8\\cdot 10 / 6 = 48$"
   ]
  },
  {
   "cell_type": "markdown",
   "metadata": {
    "id": "kHPnqRj105lL"
   },
   "source": [
    "___\n",
    "\n",
    "**(b)** Next, the researcher develops a video processing program which can identify and distinguish different individual birds from their pictures. Using this, over the next week, she observes 20 unique birds visiting the feeding station, out of which 4 are tagged. What is the MLE for the size of the hawk population in Ithaca?\n",
    "\n",
    "___"
   ]
  },
  {
   "cell_type": "markdown",
   "metadata": {
    "id": "mT-3ogKx2Hzl"
   },
   "source": [
    "\n",
    "We know this is a hypergeometric distribution.\n",
    "\n",
    "From Grinstead and Snell we denote:\n",
    "\n",
    "$$h(N,k,n,x)=\\frac{{k\\choose x}{{N-k}\\choose{n-x}}}{{N}\\choose{k}}\n",
    "=\\frac{{10\\choose4}{{N-10}\\choose{20-4}}}{{N}\\choose{20}}$$\n",
    "\n",
    "To Find the MLE we will use python to iterate and find the N that maximizes the fraction above.\n",
    "\n"
   ]
  },
  {
   "cell_type": "code",
   "execution_count": 1,
   "metadata": {},
   "outputs": [
    {
     "name": "stdout",
     "output_type": "stream",
     "text": [
      "Optimal N: 49\n"
     ]
    }
   ],
   "source": [
    "import numpy as np\n",
    "\n",
    "# Define the parameters\n",
    "k = 10\n",
    "n = 20\n",
    "x = 4\n",
    "\n",
    "results = []\n",
    "\n",
    "for N in range(26, 10000):\n",
    "    result = np.math.comb(k, x) * np.math.comb(N-k, n - x) / np.math.comb(N, n)\n",
    "    results.append(result)\n",
    ",\n",
    "max_index = np.argmax(results)\n",
    "max_N = max_index + 26  # Adjust the index to get the actual N value\n",
    "print(\"Optimal N:\", max_N)\n"
   ]
  },
  {
   "cell_type": "markdown",
   "metadata": {
    "id": "YX0Mw-EVb4GE"
   },
   "source": [
    "___\n",
    "___\n",
    "\n",
    "# Question 2: Soup for Lunch? (15 points)\n",
    "\n",
    "The folks at the [Temple of Zeus](https://as.cornell.edu/about/temple-of-zeus) have the best soup offerings at Cornell -- however, by the time you are done with Simulation, they often run out of soup. To remedy this, you want to try and understand the demand for soup, so that you can suggest how much they should make. You decide to model the total demand $N$ for soups each day as a geometric random variable with parameter $p$ (i.e., $P(N = k) = (1-p)^kp$, $k \\ge 0$).\n",
    "\n",
    "The Temple of Zeus manager gives you data for the number of lunches sold in the last $100$ days. One problem though is that the data is *censored*: the staff prepared soup for at most $40$ servings each day, and as a result, the number of sales each day is between 0 and 40. As a result, on days when the number of soups sold is $40$, you cannot be sure what the true demand $N_i$ was (but you know $N_i\\geq 40$); on other days, the number of soups sold is the true demand $N_i<40$."
   ]
  },
  {
   "cell_type": "markdown",
   "metadata": {
    "id": "Yjy3dHqpb4GF"
   },
   "source": [
    "___\n",
    "\n",
    "**(a)**\n",
    "What is the probability mass function of the per-day sales $Y$ in terms of $p$?\n",
    "___\n"
   ]
  },
  {
   "cell_type": "markdown",
   "metadata": {},
   "source": [
    "The probability mass function of the random variable $N$ is given by\n",
    "\\begin{align*}\n",
    "f_N(N) =\n",
    "\\begin{cases}\n",
    "(1-p)^yp &\\mbox{ if $y<40$,}\\\\\n",
    "(1-p)^{40} &\\mbox{ if $y=40$,} \\\\\n",
    "0 & \\mbox{otherwise}.\n",
    "\\end{cases}\n",
    "\\end{align*}\n",
    "\n",
    "Note: We found the middle case by using the compliment: $1-\\Sigma_{k=0}^{39}P(N=k)=(1-p)^{40}$"
   ]
  },
  {
   "cell_type": "markdown",
   "metadata": {
    "id": "wOQnI769b4GF"
   },
   "source": [
    "## Ans."
   ]
  },
  {
   "cell_type": "markdown",
   "metadata": {
    "id": "DRpHC9hbb4GF"
   },
   "source": [
    "___\n",
    "\n",
    "**(b)** Compute a maximum likelihood estimator of $p$ based on the sales data for soup given in `Soup_sales_data.csv`.\n",
    "___"
   ]
  },
  {
   "cell_type": "markdown",
   "metadata": {},
   "source": [
    "$$L = \\prod_1^{100}(1-p)^{y_i}p$$\n",
    "We can use indicators to express the piecewise:\n",
    "$$L = (\\prod_{I=1}^{100} I(y=40)(1-p)^{40})(\\prod_{i=1}^{100}I(y<40)(1-p)^{y_i}p)p$$\n",
    "\n",
    "Let z = # os y's = 40 \n",
    "Likelihood Function = $(1-p)^{40z}(1-p)^{y_i}(p^x)$\n",
    "Let x = # y's < 40\n",
    "Then we take the log:\n",
    "\n",
    "$$40x \\ln(1-p) + \\Sigma_{i=1}^{100}y_i n(1-p)+x\\ln(p)$$\n",
    "Where $y_i < 40$\n",
    "\n",
    "Then we differentiate w.r.t. p to maximize:\n",
    "\n",
    "$$\\frac{40}{1-p}+\\frac{\\Sigma_{i=1}^{100}y_i I(y<40)}{1-p}+\\frac{x}{p}=0$$\n",
    "\n",
    "We express:\n",
    "\n",
    "$$L=p^x(\\prod_{i=1}^{n}(1-p)^{y_i}$$\n",
    "\n",
    "Take log\n",
    "\n",
    "$$log(L)=x\\cdot ln(p) (\\Sigma_{i=1}^{n}(1-p)^{y_i})(ln(1-p))$$\n",
    "\n",
    "Differentiate and set to 0 to find max\n",
    "\n",
    "$$\\frac{x}{p}+\\frac{-(\\Sigma_{i=1}^n y_i )}{1-p}=$$\n",
    "\n",
    "x=22\n",
    "n=100\n",
    "\n",
    "Thus: By solving:\n",
    "$$\\frac{66}{p}+\\frac{-2397}{1-p}=0$$\n",
    "\n",
    "$$p = 22/281 \\approx 0.0268$$"
   ]
  },
  {
   "cell_type": "code",
   "execution_count": 2,
   "metadata": {},
   "outputs": [
    {
     "name": "stdout",
     "output_type": "stream",
     "text": [
      "Maximum Likelihood Estimator (MLE) of p: 0.026796585084110636\n"
     ]
    }
   ],
   "source": [
    "#Anwer Supported by Code:\n",
    "import pandas as pd\n",
    "import numpy as np\n",
    "from scipy.optimize import minimize\n",
    "\n",
    "# Read the dataset from CSV file\n",
    "data = pd.read_csv('Soup_sales_data.csv')\n",
    "\n",
    "# Extract sales data\n",
    "sales = data['Y']\n",
    "\n",
    "\n",
    "# Log-likelihood function\n",
    "def log_likelihood(p):\n",
    "    total_log_likelihood = 0\n",
    "    \n",
    "    for sale in sales:\n",
    "        if sale < 40:\n",
    "            total_log_likelihood += np.log((1 - p) ** sale * p + 1e-10)\n",
    "        else:\n",
    "            total_log_likelihood += np.log((1 - p) ** 40 + 1e-10) \n",
    "            \n",
    "    # Return negative log-likelihood (minimize negative log-likelihood to maximize likelihood)\n",
    "    return -total_log_likelihood\n",
    "\n",
    "# Find the MLE for p using numerical optimization\n",
    "initial_guess = 0.5  # Initial guess for p\n",
    "result = minimize(log_likelihood, initial_guess, bounds=[(0, 1)])\n",
    "\n",
    "# MLE for p\n",
    "p_mle = result.x[0]\n",
    "print(\"Maximum Likelihood Estimator (MLE) of p:\", p_mle)"
   ]
  },
  {
   "cell_type": "markdown",
   "metadata": {
    "id": "1khe5-56b4GF"
   },
   "source": [
    "\n",
    "\n"
   ]
  },
  {
   "cell_type": "markdown",
   "metadata": {
    "id": "Lh-UW13FuhSQ"
   },
   "source": [
    "___\n",
    "___\n",
    "\n",
    "# Question 3: The Birthday Paradox (40 pts)\n",
    "\n",
    "In this question, we investigate the celebrated [birthday paradox](https://en.wikipedia.org/wiki/Birthday_problem)!"
   ]
  },
  {
   "cell_type": "code",
   "execution_count": 2,
   "metadata": {},
   "outputs": [],
   "source": [
    "import matplotlib.pyplot as plt\n",
    "import numpy as np\n",
    "import random\n",
    "import pandas as pd\n",
    "import scipy.stats as stats"
   ]
  },
  {
   "cell_type": "markdown",
   "metadata": {
    "id": "yc0A7WxsuyEy"
   },
   "source": [
    "___\n",
    "\n",
    "**(a)** The basic question you may have seen in earlier probability courses is the following: given a party of $n$ people whose birthdays are drawn uniformly over the $365$ days in the year, what is the probability that at least two people share a birthday. Derive an expression for the probability, and plot it for $n\\in\\{10,11,12,\\ldots,49,50\\}$.\n",
    "___"
   ]
  },
  {
   "cell_type": "markdown",
   "metadata": {
    "id": "EGsUT8JvwI-7"
   },
   "source": [
    "## Ans.\n",
    "\n",
    "P(At least two people share)=1-P(No Bday Shared)\n",
    "\n",
    "P(No Bday Shared) = $\\prod_{i=0}^{n-1}\\frac{365-i}{365}$\n",
    "\n",
    "P(At least two people shared) =\n",
    "\n",
    "$$1-\\prod_{i=0}^{n-1}\\frac{365-i}{365}\n",
    "$$"
   ]
  },
  {
   "cell_type": "code",
   "execution_count": 32,
   "metadata": {
    "id": "CGZf5O0Kx9Ws"
   },
   "outputs": [
    {
     "data": {
      "image/png": "[encoded data removed]",
      "text/plain": [
       "<Figure size 432x288 with 1 Axes>"
      ]
     },
     "metadata": {
      "needs_background": "light"
     },
     "output_type": "display_data"
    }
   ],
   "source": [
    "n_values = range(9, 50)\n",
    "#This will give us the desired inclusive range of 10-50 people corresponding\n",
    "#to how i is defined in the formula\n",
    "probabilities = []\n",
    "\n",
    "for n in n_values:\n",
    "    prob_no_shared_birthday = 1.0\n",
    "    for i in range(n):\n",
    "        prob_no_shared_birthday *= (365 - i) / 365\n",
    "    prob_shared_birthday = 1 - prob_no_shared_birthday\n",
    "    probabilities.append(prob_shared_birthday)\n",
    "\n",
    "plt.plot(n_values, probabilities)\n",
    "plt.xlabel('Number of People (n)')\n",
    "plt.ylabel('Probability of at least one shared birthday')\n",
    "plt.title('Shared Birthday Probability')\n",
    "plt.grid(True)\n",
    "plt.show()\n"
   ]
  },
  {
   "cell_type": "markdown",
   "metadata": {
    "id": "QhBwTPrLwKhV"
   },
   "source": [
    "___\n",
    "**(b)** Next, we want to obtain the above probabilities by simulation. For a given $n$, perform simulations so as to estimate the probability  of at least two people sharing birthdays in a group of $n$, for $n\\in\\{15,16,\\ldots,30\\}$, up to $2$ decimal places (with $95\\%$ confidence). Plot the estimates and $95\\%$ CI, and also plot the theoretical result from part $(a)$ in the same plot.\n",
    "___"
   ]
  },
  {
   "cell_type": "markdown",
   "metadata": {
    "id": "_u8ikVrMx664"
   },
   "source": [
    "## Ans."
   ]
  },
  {
   "cell_type": "code",
   "execution_count": 33,
   "metadata": {
    "id": "L9gMbHO2x8cT"
   },
   "outputs": [
    {
     "data": {
      "image/png": "[encoded data removed]",
      "text/plain": [
       "<Figure size 720x432 with 1 Axes>"
      ]
     },
     "metadata": {
      "needs_background": "light"
     },
     "output_type": "display_data"
    }
   ],
   "source": [
    "import random\n",
    "import numpy as np\n",
    "import matplotlib.pyplot as plt\n",
    "from scipy.stats import binom\n",
    "\n",
    "n_values_a = range(9, 50)\n",
    "probabilities_a = []\n",
    "\n",
    "for n in n_values_a:\n",
    "    prob_no_shared_birthday = 1.0\n",
    "    for i in range(n):\n",
    "        prob_no_shared_birthday *= (365 - i) / 365\n",
    "    prob_shared_birthday = 1 - prob_no_shared_birthday\n",
    "    probabilities_a.append(prob_shared_birthday)\n",
    "\n",
    "num_simulations = 10000\n",
    "n_values_b = range(14, 30)\n",
    "simulation_results = []\n",
    "confidence_intervals = []\n",
    "\n",
    "def birthday_simulation(n):\n",
    "    birthdays = [random.randint(1, 365) for _ in range(n)]\n",
    "    return len(birthdays) != len(set(birthdays))\n",
    "\n",
    "for n in n_values_b:\n",
    "    shared_birthdays = sum(birthday_simulation(n) for _ in range(num_simulations))\n",
    "    probability = shared_birthdays / num_simulations\n",
    "    \n",
    "    # Calculate the 95% confidence interval using the binomial proportion confidence interval\n",
    "    ci_lower, ci_upper = binom.interval(0.95, num_simulations, probability)\n",
    "    \n",
    "    simulation_results.append(probability)\n",
    "    confidence_intervals.append((ci_lower / num_simulations, ci_upper / num_simulations))\n",
    "\n",
    "plt.figure(figsize=(10, 6))\n",
    "plt.plot(n_values_a, probabilities_a, label='Theoretical Probability (Part a)', linestyle='--', marker='x')\n",
    "plt.errorbar(n_values_b, simulation_results, yerr=np.transpose(np.array(confidence_intervals)), label='Simulated Probability (Part b)', marker='o', linestyle='None', capsize=3)\n",
    "\n",
    "plt.xlabel('Number of People (n) or Group Size (n)')\n",
    "plt.ylabel('Probability of Shared Birthdays')\n",
    "plt.title('Shared Birthday Probability (Theoretical vs. Simulated)')\n",
    "plt.legend()\n",
    "plt.grid(True)\n",
    "plt.show()\n"
   ]
  },
  {
   "cell_type": "markdown",
   "metadata": {
    "id": "fT4Jt0Inx99q"
   },
   "source": [
    "\n",
    "\n",
    "---\n",
    "\n",
    "**(c)** One flaw in our analysis is that birth-dates may not be uniformly distributed throughout the year. To check this, we can look at data of real birth-dates.\n",
    "\n",
    "The file `bdaydata.txt` has a list of $365$ days in the year (excluding February $29$) and the corresponding number of birthdays on that date. Load the dataset and plot the following:\n",
    "\n",
    "i. Empirical histogram of the data\n",
    "\n",
    "ii. Empirical cdf\n",
    "\n",
    "iii. Q-Q plot comparing the data to a uniform distribution\n",
    "\n",
    "(Dataset based on life insurance data from 1981-94; data and example courtesy [Roy Murphy](http://www.panix.com/~murphy/bday.html).)\n",
    "___"
   ]
  },
  {
   "cell_type": "markdown",
   "metadata": {
    "id": "g4c_Csc_ywpw"
   },
   "source": [
    "## Ans."
   ]
  },
  {
   "cell_type": "code",
   "execution_count": 22,
   "metadata": {
    "id": "NkcHgFB4yy41"
   },
   "outputs": [
    {
     "data": {
      "image/png": "[encoded data removed]",
      "text/plain": [
       "<Figure size 1200x400 with 3 Axes>"
      ]
     },
     "metadata": {},
     "output_type": "display_data"
    }
   ],
   "source": [
    "# For loading the data, you can use \"df = pd.read_csv('bdaydata.txt',sep=' ')\"\n",
    "# Please note that the txt file needs to be placed in the same folder with the ipynb file.\n",
    "# To extract the counts column as a vector, use \"df.values[:,1]\"\n",
    "\n",
    "df = pd.read_csv('bdaydata.txt', sep=' ', names=['date', 'count'])\n",
    "\n",
    "data = df.values[:,1]\n",
    "\n",
    "plt.figure(figsize=(12, 4))\n",
    "plt.subplot(131)\n",
    "plt.hist(data, bins=30, density=True, alpha=0.6, color='b')\n",
    "plt.xlabel('Number of Birthdays')\n",
    "plt.ylabel('Density')\n",
    "plt.title('Empirical Histogram')\n",
    "\n",
    "plt.subplot(132)\n",
    "sorted_data = np.sort(data)\n",
    "cdf = np.arange(1, len(sorted_data) + 1) / len(sorted_data)\n",
    "plt.plot(sorted_data, cdf, marker='.', linestyle='none', color='r')\n",
    "plt.xlabel('Number of Birthdays')\n",
    "plt.ylabel('Cumulative Probability')\n",
    "plt.title('Empirical CDF')\n",
    "\n",
    "plt.subplot(133)\n",
    "uniform = np.random.uniform(0, 1, len(data))\n",
    "uniform_sorted = np.sort(uniform)\n",
    "plt.scatter(np.sort(sorted_data), uniform_sorted, s=10, c='g', marker='o')\n",
    "plt.xlabel('Ordered Data')\n",
    "plt.ylabel('Uniform Distribution Quantiles')\n",
    "plt.title('Q-Q Plot')\n",
    "\n",
    "plt.tight_layout()\n",
    "plt.show()"
   ]
  },
  {
   "cell_type": "markdown",
   "metadata": {
    "id": "4983wTTlkaG0"
   },
   "source": [
    "___\n",
    "\n",
    "**(d)** Perform a Chi-square Test **and** a Kolmogorov-Smirnov Test to study how well the data is modeled by a uniform distribution.\n",
    "\n",
    "___"
   ]
  },
  {
   "cell_type": "markdown",
   "metadata": {
    "id": "0dWUUfznkl5k"
   },
   "source": [
    "## Ans.\n"
   ]
  },
  {
   "cell_type": "code",
   "execution_count": 19,
   "metadata": {
    "id": "F3XLVod3kuIc"
   },
   "outputs": [
    {
     "name": "stdout",
     "output_type": "stream",
     "text": [
      "Chi-Square Statistic: 1352.7233599950073\n",
      "Chi-Square p-value: 1.2489373800065057e-113\n",
      "K-S Statistic: 1.0\n",
      "K-S p-value: 0.0\n"
     ]
    }
   ],
   "source": [
    "import numpy as np\n",
    "import pandas as pd\n",
    "from scipy import stats\n",
    "\n",
    "df = pd.read_csv('bdaydata.txt', sep=' ', skiprows=1, names=['date', 'count'])\n",
    "data = df['count']\n",
    "n = len(data)\n",
    "uniform_dist = np.random.uniform(0, 1, n)\n",
    "\n",
    "chi_stat, chi_p = stats.chisquare(data)\n",
    "print(f\"Chi-Square Statistic: {chi_stat}\")\n",
    "print(f\"Chi-Square p-value: {chi_p}\")\n",
    "\n",
    "ks_stat, ks_p = stats.kstest(data, 'uniform')\n",
    "#The CDF from testing\n",
    "print(f\"K-S Statistic: {ks_stat}\")\n",
    "print(f\"K-S p-value: {ks_p}\")\n"
   ]
  },
  {
   "cell_type": "markdown",
   "metadata": {
    "id": "ga-5b3SSkoKp"
   },
   "source": [
    "___\n",
    "\n",
    "**(e)** Since you have an extensive dataset of birthday frequency, you can directly use the nonparametric bootstrap to estimate the probability of at least two people sharing birthdays in a group of $n$. Plot the bootstrap estimate and $95\\%$ CI for $n\\in\\{15,16,\\ldots,30\\}$, and compare against the plot in part $(b)$.\n",
    "\n",
    "___"
   ]
  },
  {
   "cell_type": "markdown",
   "metadata": {
    "id": "puJK5Zkio3RD"
   },
   "source": [
    "## Ans.\n"
   ]
  },
  {
   "cell_type": "code",
   "execution_count": null,
   "metadata": {},
   "outputs": [],
   "source": []
  },
  {
   "cell_type": "code",
   "execution_count": 22,
   "metadata": {
    "id": "_Th2tmBoo5Lh"
   },
   "outputs": [
    {
     "name": "stdout",
     "output_type": "stream",
     "text": [
      "0      0.003083\n",
      "1      0.002523\n",
      "2      0.002538\n",
      "3      0.002744\n",
      "4      0.002625\n",
      "         ...   \n",
      "360    0.002613\n",
      "361    0.002966\n",
      "362    0.002771\n",
      "363    0.002819\n",
      "364    0.002812\n",
      "Name: count, Length: 365, dtype: float64\n"
     ]
    }
   ],
   "source": [
    "#Let's figure out the frequency= #per bin/#total\n",
    "freq=data/data.sum()\n",
    "\n",
    "n_values = range(10, 51)\n",
    "probabilities = []\n",
    "\n",
    "for n in n_values:\n",
    "    prob_no_shared_birthday = 1.0\n",
    "    for i in range(n):\n",
    "        prob_no_shared_birthday *= (365 - i) / 365\n",
    "    prob_shared_birthday = 1 - prob_no_shared_birthday\n",
    "    probabilities.append(prob_shared_birthday)\n",
    "    \n",
    "\n",
    "def probability_shared_birthday(data, n):\n",
    "    total_days = len(data)\n",
    "    temp=data\n",
    "    \n",
    "    # Calculate the probability of all individuals having distinct birthdays\n",
    "    prob_distinct_birthdays = np.prod((total_days - np.arange(n)) / total_days)\n",
    "    \n",
    "    # Probability of at least two people sharing a birthday\n",
    "    prob_shared_birthday = 1 - prob_distinct_birthdays\n",
    "    \n",
    "    return prob_shared_birthday\n",
    "\n",
    "# Test for group sizes in {15, 30}\n",
    "group_sizes_to_test = [15, 30]\n",
    "\n",
    "for n in group_sizes_to_test:\n",
    "    prob_shared_birthday = probability_shared_birthday(data, n)\n",
    "    print(f\"Probability of at least two people sharing a birthday for n={n}: {prob_shared_birthday:.6f}\")\n",
    "\n",
    "\n",
    "\n",
    "def bootstrap (x,Nboot):\n",
    "    resampled_set = []\n",
    "    \n",
    "    for k in range(Nboot):\n",
    "        index = np.random.randint(0,len(x))\n",
    "        sample = x[index]\n",
    "        resampled_set.apped(sample)\n",
    "        \n",
    "    return resampled_set\n",
    "\n",
    "\n",
    "\n"
   ]
  },
  {
   "cell_type": "markdown",
   "metadata": {},
   "source": [
    "$$1-\\prod_{i=1}^n\\frac{365-i}{365}\n",
    "$$"
   ]
  },
  {
   "cell_type": "code",
   "execution_count": 46,
   "metadata": {},
   "outputs": [
    {
     "data": {
      "image/png": "[encoded data removed]",
      "text/plain": [
       "<Figure size 720x360 with 1 Axes>"
      ]
     },
     "metadata": {
      "needs_background": "light"
     },
     "output_type": "display_data"
    },
    {
     "data": {
      "image/png": "[encoded data removed]",
      "text/plain": [
       "<Figure size 720x360 with 1 Axes>"
      ]
     },
     "metadata": {
      "needs_background": "light"
     },
     "output_type": "display_data"
    }
   ],
   "source": [
    "counts=data\n",
    "# Number of bootstrap samples\n",
    "num_bootstrap_samples = 10000\n",
    "\n",
    "# Range of group sizes (n) you want to analyze\n",
    "n_values = range (15, 31)\n",
    "\n",
    "# Store the estimated probabilities for each n\n",
    "probabilities = []\n",
    "\n",
    "# Perform bootstrap resampling and estimation for each n\n",
    "for n in n_values:\n",
    "    shared_birthday_count = 0 # Initialize count for shared birthdays\n",
    "    for _ in range (num_bootstrap_samples):\n",
    "        # Generate a bootstrap sample of size n\n",
    "        bootstrap_sample = np. random. choice (counts, size=n, replace=True)\n",
    "\n",
    "        # Check if at least one shared birthday\n",
    "        if len (bootstrap_sample) != len (np. unique (bootstrap_sample)) :\n",
    "            shared_birthday_count += 1\n",
    "    \n",
    "    # Calculate the probability\n",
    "    probability = shared_birthday_count / num_bootstrap_samples\n",
    "    probabilities.append (probability)\n",
    "\n",
    "# Calculate 95% confidence intervals for each n\n",
    "conf_int_lower = [np.percentile (probabilities, 2.5) for _ in n_values]\n",
    "conf_int_upper = [np.percentile (probabilities, 97.5) for _ in n_values]\n",
    "\n",
    "# Plot the results\n",
    "plt.figure(figsize=(10, 5))\n",
    "plt.plot(n_values, probabilities, marker='o', label='Bootstrap Estimate') \n",
    "plt.fill_between (n_values, conf_int_lower, conf_int_upper, alpha=0.2, label='95% CI') \n",
    "plt.xlabel('Group Size (n) ')\n",
    "plt.ylabel('Probability of Shared Birthdays')\n",
    "plt.title('Probability of Shared Birthdays by Group Size (Nonparametric Bootstrap)') \n",
    "plt.legend()\n",
    "plt.grid(True)\n",
    "\n",
    "# Compare to the previous plot (part b)\n",
    "plt.figure(figsize= (10, 5))\n",
    "plt.bar(n_values, [0.0] * len (n_values), alpha=0.4, label='Part (b) Plot', color='b') \n",
    "plt.plot (n_values, probabilities, marker='o', label= 'Bootstrap Estimate (Nonparametric)')\n",
    "plt. fill_between (n_values, conf_int_lower, conf_int_upper, alpha=0.2, label='95%') \n",
    "plt.xlabel('Group Size (n)') \n",
    "plt.ylabel('Probability of Shared Birthdays') \n",
    "plt.title('Comparison with Part (b) Plot') \n",
    "plt.legend() \n",
    "plt.grid (True)\n",
    "plt.show()\n"
   ]
  },
  {
   "cell_type": "markdown",
   "metadata": {
    "id": "FJhVnfbFb4GI"
   },
   "source": [
    "___\n",
    "___\n",
    "\n",
    "# Question 4: Benford's Law (30 pts)\n",
    "\n",
    "In this question, we will use the Chi-square test to study *Benford's law* in a variety of setttings. Consider a data set consisting of $n$ different numbers, and look at the leading digit of each number (for example, the leading digit of $123.456$ is $1$, and the leading digit of $-0.423$ is $4$). For many data sets, the fraction of leading digits that equal $1$ is much higher than $1/9$ (i.e., what it would be if uniformlly distributed); in fact, the probability distribution of the different leading digits $1, 2, \\ldots, 9$ is far from uniform.\n",
    "\n",
    "This observation has been observed to hold in measurements of distances to galaxies, numbers appearing in tax forms and many other settings, and has been used to detect fraud among other uses. See [the Wikipedia page](https://en.wikipedia.org/wiki/Benford\\%27s_law) for a description of this phenomena, and [this blog post](https://terrytao.wordpress.com/2009/07/03/benfords-law-zipfs-law-and-the-pareto-distribution/) for an interesting related discussion. More recently, this has also been (supposedly) misused in (supposedly) detecting (supposed) fraud in election results -- see [this Stand-Up Maths](https://www.youtube.com/watch?v=etx0k1nLn78&t=4s) video for a great example of how data analysis should be done!\n",
    "\n"
   ]
  },
  {
   "cell_type": "markdown",
   "metadata": {
    "id": "xCLoBig-b4GI"
   },
   "source": [
    "___\n",
    "\n",
    "**(a)** First, we will study this phenomena in a *synthetic* dataset. For this, compute the first digits of $n!$ for the first $1500$ integers, and plot their empirical histogram. You can use the code fragment provided to generate the first $n$ factorials.\n",
    "___\n"
   ]
  },
  {
   "cell_type": "markdown",
   "metadata": {
    "id": "YljDZzRgp_G8"
   },
   "source": [
    "## Ans."
   ]
  },
  {
   "cell_type": "code",
   "execution_count": null,
   "metadata": {
    "id": "77FZ8tmCb4GI"
   },
   "outputs": [],
   "source": [
    "#from scipy.misc import factorial\n",
    "#fact_series = factorial(np.arange(n),exact=True)\n",
    "#first_digit = np.zeros(n)\n",
    "#for i in range(n):\n",
    "# first_digit[i] = int(str(fact_series[i])[0])"
   ]
  },
  {
   "cell_type": "code",
   "execution_count": 11,
   "metadata": {},
   "outputs": [
    {
     "data": {
      "image/png": "[encoded data removed]",
      "text/plain": [
       "<Figure size 432x288 with 1 Axes>"
      ]
     },
     "metadata": {
      "needs_background": "light"
     },
     "output_type": "display_data"
    }
   ],
   "source": [
    "import numpy as np\n",
    "import matplotlib.pyplot as plt\n",
    "from scipy.special import factorial\n",
    "\n",
    "n = 1500\n",
    "\n",
    "fact_series = factorial(np.arange(n),exact=True)\n",
    "first_digit = np.zeros(n)\n",
    "for i in range(n):\n",
    "    first_digit[i] = int(str(fact_series[i])[0])\n",
    "\n",
    "# Calculate the empirical histogram\n",
    "hist, bins = np.histogram(first_digit, bins=np.arange(1, 11) - 0.5, density=True)\n",
    "\n",
    "# Plot the empirical histogram\n",
    "plt.bar(bins[:-1], hist, width=1, alpha=0.7, edgecolor='black')\n",
    "plt.xlabel('First Digit')\n",
    "plt.ylabel('Probability')\n",
    "plt.title('Empirical Histogram of First Digits of Factorials')\n",
    "plt.xticks(range(1, 10))\n",
    "plt.grid(axis='y', linestyle='--', alpha=0.7)\n",
    "plt.show()"
   ]
  },
  {
   "cell_type": "markdown",
   "metadata": {
    "id": "HBT-fHg8b4GI"
   },
   "source": [
    "___\n",
    "**(b)** Use a Chi-square test to determine how well the data can be modeled using a uniform distribution.\n",
    "\n",
    "___\n"
   ]
  },
  {
   "cell_type": "markdown",
   "metadata": {
    "id": "0cfhwR8NqeWa"
   },
   "source": [
    "## Ans.\n",
    "\n",
    "From a), we plotted with 9 bins. Let the # of bins is k.\n",
    "Let S be the # of paramenters needed to be estimated. (In this case S=0)\n",
    "From a, we know the frequency of each bin = observed frequency.\n",
    "Expected frequency which is the frequency of the data that we expect to see for the distribution that we want to see. So in this case because we are working with the uniform so in this case:\n",
    "frequency = #data/#bins\n",
    "\n"
   ]
  },
  {
   "cell_type": "code",
   "execution_count": 6,
   "metadata": {
    "id": "Ehn4QDNZb4GI"
   },
   "outputs": [
    {
     "data": {
      "text/plain": [
       "'\"\"observations=first_digit\\nexpected_frequency=1500/9\\n#USE np.bincount to find observed freq\\nstats.chisquare(first_digit,expected_frequency,ddof=0)\\nThis function will return two things, test statistic and p-value, we just look at the p-value in this case. \\nIf too small we reject the null Hypothesis, H_0=Data set has Uniform'"
      ]
     },
     "execution_count": 6,
     "metadata": {},
     "output_type": "execute_result"
    }
   ],
   "source": [
    "\"\"\"\"\"observations=first_digit\n",
    "expected_frequency=1500/9\n",
    "#USE np.bincount to find observed freq\n",
    "stats.chisquare(first_digit,expected_frequency,ddof=0)\n",
    "This function will return two things, test statistic and p-value, we just look at the p-value in this case. \n",
    "If too small we reject the null Hypothesis, H_0=Data set has Uniform\"\"\"\n"
   ]
  },
  {
   "cell_type": "code",
   "execution_count": 10,
   "metadata": {},
   "outputs": [
    {
     "name": "stdout",
     "output_type": "stream",
     "text": [
      "Chi-square statistic: 670.8000000000002\n",
      "p-value: 1.3805718582880795e-139\n",
      "Reject the null hypothesis: The data does not follow a uniform distribution.\n"
     ]
    }
   ],
   "source": [
    "from scipy.stats import chisquare\n",
    "\n",
    "# Observed frequencies from the empirical histogram\n",
    "observed_frequencies = hist * n\n",
    "\n",
    "# Expected frequencies assuming a uniform distribution\n",
    "expected_frequency = n / 9\n",
    "\n",
    "# Perform Chi-square goodness-of-fit test\n",
    "chi2, p = chisquare(observed_frequencies, f_exp=expected_frequency)\n",
    "\n",
    "# Output the test statistics and p-value\n",
    "print(\"Chi-square statistic:\", chi2)\n",
    "print(\"p-value:\", p)\n",
    "\n",
    "# Determine the result of the Chi-square test\n",
    "alpha = 0.05  # Significance level\n",
    "if p < alpha:\n",
    "    print(\"Reject the null hypothesis: The data does not follow a uniform distribution.\")\n",
    "else:\n",
    "    print(\"Fail to reject the null hypothesis: The data follows a uniform distribution.\")"
   ]
  },
  {
   "cell_type": "markdown",
   "metadata": {
    "id": "okLmo5b2b4GI"
   },
   "source": [
    "___\n",
    "\n",
    "**(c)** Next, use a Chi-square test to test how well the data is modeled using the 'Benford's Law' distribution:\n",
    "$$p(d)= \\log _{10}(d+1)-\\log _{10}(d), \\quad d\\in\\{1,2,\\ldots,9\\}$$\n",
    "\n",
    "\n",
    "___"
   ]
  },
  {
   "cell_type": "code",
   "execution_count": 12,
   "metadata": {
    "id": "oz3YDgLpb4GI"
   },
   "outputs": [
    {
     "name": "stdout",
     "output_type": "stream",
     "text": [
      "Chi-square statistic: 9.456569118464644\n",
      "p-value: 0.30525483396067576\n",
      "Fail to reject the null hypothesis: The data follows Benford's Law.\n"
     ]
    }
   ],
   "source": [
    "import math\n",
    "from scipy.stats import chisquare\n",
    "\n",
    "def BenfordsLaw(d): \n",
    "    # Compute log10(d+1) - log10(d)\n",
    "    result = math.log10(d + 1) - math.log10(d)\n",
    "    return result\n",
    "\n",
    "# Expected frequencies assuming a uniform distribution\n",
    "expected_frequency = []\n",
    "\n",
    "# Ensure the length of expected_frequency matches the length of observed_frequencies\n",
    "for i in range(1, 10):\n",
    "    expected_frequency.append(BenfordsLaw(i) * sum(observed_frequencies))\n",
    "\n",
    "# Perform Chi-square goodness-of-fit test\n",
    "chi2, p = chisquare(observed_frequencies, expected_frequency)\n",
    "\n",
    "# Output the test statistics and p-value\n",
    "print(\"Chi-square statistic:\", chi2)\n",
    "print(\"p-value:\", p)\n",
    "\n",
    "# Determine the result of the Chi-square test\n",
    "alpha = 0.05  # Significance level\n",
    "if p < alpha:\n",
    "    print(\"Reject the null hypothesis: The data does not follow Benford's Law.\")\n",
    "else:\n",
    "    print(\"Fail to reject the null hypothesis: The data follows Benford's Law.\") "
   ]
  },
  {
   "cell_type": "markdown",
   "metadata": {
    "id": "rVl8W5m9b4GI"
   },
   "source": [
    "___\n",
    "\n",
    "**(d)** Finally, we will repeat this analysis with a more natural dataset. The dataset `us_pop.csv` contains the US population in 100,000 different zip codes in the year 2010, and the numbers range from less than ten to almost 100,000. As above, compute the histogram of the leading digits, and use the Chi-square test to see how well the data is modeled via the uniform and the Benford's law distributions.\n",
    "___"
   ]
  },
  {
   "cell_type": "markdown",
   "metadata": {
    "id": "rKyZ12L2srUZ"
   },
   "source": [
    "## Ans."
   ]
  },
  {
   "cell_type": "code",
   "execution_count": 13,
   "metadata": {
    "id": "vl7qScg0b4GI"
   },
   "outputs": [
    {
     "data": {
      "image/png": "[encoded data removed]",
      "text/plain": [
       "<Figure size 432x288 with 1 Axes>"
      ]
     },
     "metadata": {
      "needs_background": "light"
     },
     "output_type": "display_data"
    }
   ],
   "source": [
    "import pandas as pd\n",
    "\n",
    "# Read the dataset\n",
    "data = pd.read_csv('us_pop.csv')\n",
    "\n",
    "# Extract leading digits\n",
    "leading_digits = data['population'].astype(str).str[0].astype(int)\n",
    "\n",
    "# Compute the empirical histogram\n",
    "hist, bins = np.histogram(leading_digits, bins=np.arange(1, 11) - 0.5, density=True)\n",
    "\n",
    "# Plot the empirical histogram\n",
    "plt.bar(bins[:-1], hist, width=1, alpha=0.7, edgecolor='black')\n",
    "plt.xlabel('First Digit')\n",
    "plt.ylabel('Probability')\n",
    "plt.title('Empirical Histogram of First Digits of Factorials')\n",
    "plt.xticks(range(1, 10))\n",
    "plt.grid(axis='y', linestyle='--', alpha=0.7)\n",
    "plt.show()"
   ]
  },
  {
   "cell_type": "code",
   "execution_count": 14,
   "metadata": {},
   "outputs": [
    {
     "name": "stdout",
     "output_type": "stream",
     "text": [
      "Chi-square statistic: 50323.53572\n",
      "p-value: 0.0\n",
      "Reject the null hypothesis: The data does not follow a uniform distribution.\n"
     ]
    }
   ],
   "source": [
    "# Observed frequencies from the empirical histogram\n",
    "observed_frequencies = hist * len(leading_digits)  # Assuming len(leading_digits) is the total number of observations\n",
    "\n",
    "# Expected frequencies assuming a uniform distribution\n",
    "expected_frequency = len(leading_digits) / 9\n",
    "\n",
    "# Perform Chi-square goodness-of-fit test\n",
    "chi2, p = chisquare(observed_frequencies, f_exp=expected_frequency)\n",
    "\n",
    "# Output the test statistics and p-value\n",
    "print(\"Chi-square statistic:\", chi2)\n",
    "print(\"p-value:\", p)\n",
    "\n",
    "# Determine the result of the Chi-square test\n",
    "alpha = 0.05  # Significance level\n",
    "if p < alpha:\n",
    "    print(\"Reject the null hypothesis: The data does not follow a uniform distribution.\")\n",
    "else:\n",
    "    print(\"Fail to reject the null hypothesis: The data follows a uniform distribution.\")"
   ]
  },
  {
   "cell_type": "code",
   "execution_count": 15,
   "metadata": {},
   "outputs": [
    {
     "name": "stdout",
     "output_type": "stream",
     "text": [
      "Chi-square statistic: 11.843226818110919\n",
      "p-value: 0.15833698137849542\n",
      "Fail to reject the null hypothesis: The data follows Benford's Law.\n"
     ]
    }
   ],
   "source": [
    "# Expected frequencies assuming a uniform distribution\n",
    "expected_frequency = []\n",
    "\n",
    "# Ensure the length of expected_frequency matches the length of observed_frequencies\n",
    "for i in range(1, 10):\n",
    "    expected_frequency.append(BenfordsLaw(i) * sum(observed_frequencies))\n",
    "\n",
    "# Perform Chi-square goodness-of-fit test\n",
    "chi2, p = chisquare(observed_frequencies, expected_frequency)\n",
    "\n",
    "# Output the test statistics and p-value\n",
    "print(\"Chi-square statistic:\", chi2)\n",
    "print(\"p-value:\", p)\n",
    "\n",
    "# Determine the result of the Chi-square test\n",
    "alpha = 0.05  # Significance level\n",
    "if p < alpha:\n",
    "    print(\"Reject the null hypothesis: The data does not follow Benford's Law.\")\n",
    "else:\n",
    "    print(\"Fail to reject the null hypothesis: The data follows Benford's Law.\") "
   ]
  },
  {
   "cell_type": "markdown",
   "metadata": {
    "id": "adS-uJlsuEPA"
   },
   "source": [
    "**(e) (Optional for all students)** To understand how the Benford's law distribution originates, the important idea is that when a random variable $X$ ranges over several orders (say between $0$ and $10^6$), then it is better modelled by saying that $\\log_{10}(X)$ is uniformly distributed on interval $[0,6]$ (rather than $X$ being uniform on $[0,10^6]$. Using this, can you derive the the exact probabilities for each of the leading digits."
   ]
  },
  {
   "cell_type": "code",
   "execution_count": null,
   "metadata": {
    "id": "D3iMUEvEuRu8"
   },
   "outputs": [],
   "source": []
  }
 ],
 "metadata": {
  "colab": {
   "provenance": []
  },
  "kernelspec": {
   "display_name": "Python 3 (ipykernel)",
   "language": "python",
   "name": "python3"
  },
  "language_info": {
   "codemirror_mode": {
    "name": "ipython",
    "version": 3
   },
   "file_extension": ".py",
   "mimetype": "text/x-python",
   "name": "python",
   "nbconvert_exporter": "python",
   "pygments_lexer": "ipython3",
   "version": "3.9.12"
  }
 },
 "nbformat": 4,
 "nbformat_minor": 1
}
