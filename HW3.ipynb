{
 "cells": [
  {
   "cell_type": "markdown",
   "metadata": {
    "id": "KdHI8a1S9iUn"
   },
   "source": [
    "# ORIE 4580/5580/5581 Assignment 3\n",
    "\n",
    "#### Students: Sean Benko (snb55) and Sean Hansen (seh265)\n",
    "\n",
    "### Github link: [example Github link](https://github.com/SidBanerjee/ORIE4580-Simulation/blob/main/Notebooks/Unit0-Intro_Demos.ipynb)\n"
   ]
  },
  {
   "cell_type": "markdown",
   "metadata": {
    "id": "SWIW16cwI0bB"
   },
   "source": [
    "### Instructions\n",
    "\n",
    "\n",
    "* Due Friday September 22, at 11.59am on Gradescope.\n",
    "* Assignment .ipynb files available for download on [Canvas](https://canvas.cornell.edu/courses/56826#:~:text=Assignments-,Assignments,-Assignments%20Module%20publish). Do all your work in provided notebook (text answers typeset in markdown; show all required code and generate plots inline), and then generate and submit a pdf.\n",
    "* Ideally do assignments in groups of 2, and submit a single pdf with both names\n",
    "* Please show your work and clearly mark your answers.\n",
    "* You can use any code fragments given in class, found online (for example, on StackOverflow), or generated via Bard or ChatGPT (you are encouraged to use these for first drafts) **with proper referencing**. You can also discuss with others (again, please reference them if you do so); but you must write your final answers on your own as a team.\n",
    "\n",
    "\n",
    "\n",
    "### Suggested reading\n",
    "\n",
    "Chapters 7 (you can skim through this), and chapters 8 and 9 of [Introduction to Probability](https://chance.dartmouth.edu/teaching_aids/books_articles/probability_book/book.html) by Grinstead and Snell.\n",
    "\n",
    "Chapter 3 and chapter 4 (up to section 4.5) of [Simulation by Ross](https://catalog.library.cornell.edu/catalog/12745977)."
   ]
  },
  {
   "cell_type": "code",
   "execution_count": 2,
   "metadata": {
    "id": "upFYbOmHI4Uv"
   },
   "outputs": [],
   "source": [
    "#importing necessary packages\n",
    "import numpy as np\n",
    "import matplotlib.pyplot as plt\n",
    "import scipy.stats\n",
    "%matplotlib inline"
   ]
  },
  {
   "cell_type": "markdown",
   "metadata": {
    "id": "lAy475sN9iUs"
   },
   "source": [
    "___\n",
    "___\n",
    "\n",
    "## Question 1: Combining LCGs (20 points)\n",
    "\n",
    "In order to avoid biases, simulations should not use anywhere near the full period of an LCG (otherwise, the random sequence repeats\\ldots). For example, a typical traffic simulator may have $10,000$ vehicles, each experiencing thousands of random disturbances, thus needing around $10^7$ random samples per replication -- for this, an LCG using $m=2^{31}-1\\approx 2\\times 10^9$ is insufficient, as after $100$ replications the sequences get correlated.\n",
    "\n",
    "One method to combine multiple LCGs to obtain a generator with a longer period is to add a smaller period LCG to it. For example, suppose we have two generators $X_{n+1}  =  (a_1 X_n) \\mbox{ mod } m_1$ and $Y_{n+1}  =  (a_2 Y_n) \\mbox{ mod } m_2$, with $m_1>m_2$. We can derive a combined generator by setting $Z_n  =  (X_n + Y_n) \\mbox{ mod } m_1$. If properly designed, the resulting period can be on the order of $m_1m_2$. We will now study a small example to see how this works.\n"
   ]
  },
  {
   "cell_type": "markdown",
   "metadata": {
    "id": "-geWMEJp9iUt"
   },
   "source": [
    "___\n",
    "**(a)** Consider two LCGs, $x_{n+1} = (5 x_n) \\mod 16$ and $y_{n+1} = (2 y_n) \\mod 7$. Starting both with seed $x_0 = y_0 = 1$, plot the sequences $x_n, y_n$ using the clock visualization introduced in class (separate plot for each sequence; you can use and modify the code in Demo-PRNGs.ipynb on Canvas).\n",
    "___"
   ]
  },
  {
   "cell_type": "code",
   "execution_count": 2,
   "metadata": {
    "id": "5jsoc-t6D-Q7"
   },
   "outputs": [],
   "source": [
    "# Functions to visualize LCG sequence on clock (see demo notebook)\n"
   ]
  },
  {
   "cell_type": "code",
   "execution_count": 3,
   "metadata": {
    "id": "GRvFbLtFEC16"
   },
   "outputs": [],
   "source": [
    "# Function to generate pseudorandom sequence using LCG\n",
    "# Set default parameters to glibc specifications (see demo notebook)\n"
   ]
  },
  {
   "cell_type": "code",
   "execution_count": 50,
   "metadata": {
    "id": "b2hOTeOyEEkI"
   },
   "outputs": [],
   "source": [
    "# Ans\n",
    "def LCG(n, m=2**31-1, a=1103515245, c=12345, seed=1):\n",
    "    \"\"\"\n",
    "    Generate a pseudorandom sequence using a Linear Congruential Generator (LCG).\n",
    "\n",
    "    Parameters:\n",
    "    n (int): The number of pseudorandom numbers to generate.\n",
    "    m (int): The modulus value (default is 2^31-1, following glibc specifications).\n",
    "    a (int): The multiplier value (default is 1103515245, following glibc specifications).\n",
    "    c (int): The increment value (default is 12345, following glibc specifications).\n",
    "    seed (int): The initial seed value (default is 1).\n",
    "\n",
    "    Returns:\n",
    "    numpy.ndarray: An array of pseudorandom numbers in the range [0, 1).\n",
    "    \"\"\"\n",
    "    # Initialize an array to store the generated pseudorandom numbers\n",
    "    output = np.zeros(n)\n",
    "\n",
    "    x = seed\n",
    "    for i in range(n):\n",
    "        # Calculate the pseudorandom number and normalize it to [0, 1)\n",
    "        output[i] = (x + 1.0) / (m + 1.0)\n",
    "\n",
    "        # Update the LCG state using the specified parameters\n",
    "        x = (a * x + c) % m\n",
    "    return output"
   ]
  },
  {
   "cell_type": "code",
   "execution_count": 51,
   "metadata": {},
   "outputs": [],
   "source": [
    "def plot_clock_face(m, fig, annotate=False):\n",
    "    \"\"\"\n",
    "    Plot points on a unit circle representing the LCG sequence on a clock face.\n",
    "\n",
    "    Parameters:\n",
    "    m (int): The modulus value for the LCG sequence.\n",
    "    fig (matplotlib.figure.Figure): The figure object to draw on.\n",
    "    annotate (bool): Whether to annotate points with their index.\n",
    "\n",
    "    Returns:\n",
    "    None\n",
    "    \"\"\"\n",
    "    # Plot m points on the unit circle\n",
    "    for i in range(m):\n",
    "        theta = 2.0 * np.pi * i / m\n",
    "        plt.plot(np.sin(theta), np.cos(theta), 'rs', markersize = 10)\n",
    "        if annotate:\n",
    "            plt.annotate(str(i), (np.pi/2 - theta, 1.05), xycoords='polar')\n",
    "\n",
    "def plot_clock_path(m, x, fig, color='y'):\n",
    "    \"\"\"\n",
    "    Plot the path of an LCG sequence on a clock face.\n",
    "\n",
    "    Parameters:\n",
    "    m (int): The modulus value for the LCG sequence.\n",
    "    x (numpy.ndarray): The LCG sequence.\n",
    "    fig (matplotlib.figure.Figure): The figure object to draw on.\n",
    "    color (str): The color for the path.\n",
    "\n",
    "    Returns:\n",
    "    None\n",
    "    \"\"\"\n",
    "    # Plot the seed node\n",
    "    theta_0 = 2.0 * np.pi * (x[0] * (m + 1) - 1) / m\n",
    "    plt.plot(np.sin(theta_0), np.cos(theta_0), 'gs', markersize = 10)\n",
    "\n",
    "    # Plot the path of the LCG sequence\n",
    "    for i in range(len(x) - 1):\n",
    "        theta_start = 2.0 * np.pi * (x[i] * (m + 1) - 1) / m\n",
    "        theta_end = 2.0 * np.pi * (x[i + 1] * (m + 1) - 1) / m\n",
    "        x_start = np.sin(theta_start)\n",
    "        y_start = np.cos(theta_start)\n",
    "        del_x = np.sin(theta_end) - np.sin(theta_start)\n",
    "        del_y = np.cos(theta_end) - np.cos(theta_start)\n",
    "        if abs(del_x) > 0 or abs(del_y) > 0:\n",
    "            plt.arrow(x_start, y_start, del_x, del_y,\n",
    "                      length_includes_head=True, head_width=0.05, head_length=0.1, fc=color, ec=color)"
   ]
  },
  {
   "cell_type": "code",
   "execution_count": 52,
   "metadata": {},
   "outputs": [
    {
     "data": {
      "image/png": "[encoded data removed]",
      "text/plain": [
       "<Figure size 720x360 with 2 Axes>"
      ]
     },
     "metadata": {
      "needs_background": "light"
     },
     "output_type": "display_data"
    }
   ],
   "source": [
    "# Ans\n",
    "\n",
    "# x LCG\n",
    "m_x = 16\n",
    "a_x = 5\n",
    "c_x = 0\n",
    "seed_x = 1\n",
    "\n",
    "fig = plt.figure(figsize=(10,5))\n",
    "x = LCG(n = m_x + 1, m = m_x, a=a_x, c = c_x, seed = seed_x)\n",
    "\n",
    "# y LCG\n",
    "m_y = 7\n",
    "a_y = 2\n",
    "c_y = 0\n",
    "seed_y = 1\n",
    "y = LCG(n = m_y + 1, m = m_y, a = a_y, c = c_y, seed = seed_y)\n",
    "\n",
    "plt.subplot(1, 2, 1)\n",
    "plt.title(\"LCG X\")\n",
    "plot_clock_face(m_x, fig, annotate = True)\n",
    "plot_clock_path(m_x, x, fig)\n",
    "plt.axis('equal')\n",
    "plt.axis('off')\n",
    "\n",
    "plt.subplot(1, 2, 2)\n",
    "plt.title(\"LCG Y\")\n",
    "plot_clock_face(m_y, fig, annotate = True)\n",
    "plot_clock_path(m_y, y, fig)\n",
    "plt.axis('equal')\n",
    "plt.axis('off')\n",
    "plt.show()"
   ]
  },
  {
   "cell_type": "markdown",
   "metadata": {
    "id": "FDfX7mQz9iUv"
   },
   "source": [
    "___\n",
    "**(b)** Next, define a combined LCG as $z_{n} = (x_n+y_n) \\mod 16$. Starting both the base LCGs with seed $x_0 = y_0 = 1$, plot the sequence $z_n$ using the clock visualization given in class.\n",
    "___"
   ]
  },
  {
   "cell_type": "code",
   "execution_count": 53,
   "metadata": {
    "id": "pLwpyLwZEIHk"
   },
   "outputs": [],
   "source": [
    "def LCGnoNorm(n, m=2**31-1, a=1103515245, c=12345, seed=1):\n",
    "    # Initialize an array to store the generated pseudorandom numbers\n",
    "    output = np.zeros(n)\n",
    "\n",
    "    x = seed\n",
    "    for i in range(n):\n",
    "        # Calculate the pseudorandom number\n",
    "        output[i] = x\n",
    "\n",
    "        # Update the LCG state using the specified parameters\n",
    "        x = (a * x + c) % m\n",
    "    return output\n",
    "\n",
    "def LCGcombine(n, m=2**31-1, a=1103515245, c=12345, seed=1):\n",
    "    # Initialize an array to store the generated pseudorandom numbers\n",
    "    output = np.zeros(n)\n",
    "\n",
    "    z = seed\n",
    "    x = LCGnoNorm(n, 16, 5, 0, 1)\n",
    "    y = LCGnoNorm(n, 7, 2, 0, 1)\n",
    "    for i in range(n):\n",
    "        # Calculate the pseudorandom number and normalize it to [0, 1)\n",
    "        z = x[i] + y[i] % 16\n",
    "        output[i] = (z + 1.0) / (m + 1.0)\n",
    "\n",
    "        # Update the LCG state using the specified parameters\n",
    "        z = (a * z + c) % m\n",
    "    return output"
   ]
  },
  {
   "cell_type": "code",
   "execution_count": 54,
   "metadata": {},
   "outputs": [
    {
     "data": {
      "text/plain": [
       "(-1.1, 1.1, -1.100023397648169, 1.1004913506115477)"
      ]
     },
     "execution_count": 54,
     "metadata": {},
     "output_type": "execute_result"
    },
    {
     "data": {
      "image/png": "[encoded data removed]",
      "text/plain": [
       "<Figure size 432x288 with 1 Axes>"
      ]
     },
     "metadata": {
      "needs_background": "light"
     },
     "output_type": "display_data"
    }
   ],
   "source": [
    "z = LCGcombine(100, 17)\n",
    "plt.title(\"LCG Z\")\n",
    "plot_clock_face(16, fig, annotate = True)\n",
    "plot_clock_path(16, z, fig)\n",
    "plt.axis('equal')\n",
    "plt.axis('off')"
   ]
  },
  {
   "cell_type": "markdown",
   "metadata": {
    "id": "W7FAnv8z9iUx"
   },
   "source": [
    "___\n",
    "**(c)** What are the periods of the pseudo-random sequences $x_n, y_n$ and $z_n$?\n",
    "___\n"
   ]
  },
  {
   "cell_type": "markdown",
   "metadata": {
    "id": "XAWLfsGGMO7X"
   },
   "source": [
    "### Ans.\n",
    "$x_n=4$\n",
    "\n",
    "$y_n=3$\n",
    "\n",
    "$z_n=12$"
   ]
  },
  {
   "cell_type": "markdown",
   "metadata": {
    "id": "wmL74RyC9iUz"
   },
   "source": [
    "___\n",
    "___\n",
    "## Question 2: inverting cdfs (25 pts)\n",
    "\n",
    "In class, we defined $F^{-1}(y)$ for a continuous increasing cdf $F(x)$ as the unique $x$ such that $F(x) = y$ (for $y\\in[0,1]$). More generally, for any cdf $F$ we can use the inversion method based on its generalized inverse or *pseudoinverse*:\n",
    "\t$$F^{-1}(y) = \\inf\\{x|F(x)\\geq y\\}$$\n",
    "\t(where $\\inf$ denotes the \\href{https://en.wikipedia.org/wiki/Infimum_and_supremum}{infimum}; if you have not seen this before, treat it as minimum).\n"
   ]
  },
  {
   "cell_type": "markdown",
   "metadata": {
    "id": "k8gt9TWM9iU0"
   },
   "source": [
    "___\n",
    "**(a)** Find the pseudoinverse $F^{-1}(y)$ for the following mixed (discrete/continuous) cdf\n",
    "\t$$F(x)=\n",
    "\t\\begin{cases}\n",
    "\t0 & \\mbox{for $x < 0$}\\\\\n",
    "\tx & \\mbox{for $0 \\leq x < \\frac{1}{2}$}, \\\\\n",
    "\t\\frac{1}{2} & \\mbox{for $\\frac{1}{2}\\leq x < 1$}, \\\\\n",
    "\t1 & \\mbox{for $x\\geq 1$}\n",
    "\t \\end{cases}$$\n",
    "___"
   ]
  },
  {
   "cell_type": "markdown",
   "metadata": {
    "id": "h4Vtj9TBMr6A"
   },
   "source": [
    "### Ans.\n",
    "$$F^{-1}(y)=-∞ \\text{ for y < 0}$$\n",
    "$$=y\\text{ for 0 <= y < 1/2}$$\n",
    "$$=1/2\\text{ for 1/2 <= y <1}$$\n",
    "$$=1\\text{ for y >= 1}$$"
   ]
  },
  {
   "cell_type": "markdown",
   "metadata": {
    "id": "z5IrvAkx9iU1"
   },
   "source": [
    "___\n",
    "**(b)** Use the above definition to get an inversion algorithm for the $Geometric(p)$ distribution (with pmf $p(k) = p(1-p)^{k-1}\\,\\forall\\,k\\in\\{1,2,3,\\ldots\\}$). Implement this, and generate and plot the histogram of 1000 samples from a $Geometric(0.42)$ distribution.\n",
    "(For this, it may be useful for you to first understand how the [scipy.stats](https://docs.scipy.org/doc/scipy/reference/stats.html) library works, and in particular, how it provides methods to compute various statistics for many different random variables, including the [geometric r.v.](https://docs.scipy.org/doc/scipy/reference/generated/scipy.stats.geom.html#scipy.stats.geom))\n",
    "___"
   ]
  },
  {
   "cell_type": "code",
   "execution_count": 56,
   "metadata": {
    "id": "JQIulHgEJrwz"
   },
   "outputs": [],
   "source": [
    "def geo(num, p):\n",
    "  samples = []\n",
    "  for i in range(num):\n",
    "    random=np.random.rand()\n",
    "    samples.append(scipy.stats.geom.ppf(random,p))\n",
    "  return samples"
   ]
  },
  {
   "cell_type": "code",
   "execution_count": 57,
   "metadata": {},
   "outputs": [
    {
     "data": {
      "image/png": "[encoded data removed]",
      "text/plain": [
       "<Figure size 432x288 with 1 Axes>"
      ]
     },
     "metadata": {
      "needs_background": "light"
     },
     "output_type": "display_data"
    }
   ],
   "source": [
    "probability = .02\n",
    "numSamples = 1000\n",
    "\n",
    "samples = geo(numSamples,probability)\n",
    "\n",
    "plt.hist(samples, bins = 10, density = True)\n",
    "plt.title(\"Geometric(0.42) Samples Histogram\")\n",
    "plt.xlabel(\"Sample Value k\")\n",
    "plt.ylabel(\"Density\")\n",
    "plt.show()"
   ]
  },
  {
   "cell_type": "markdown",
   "metadata": {
    "id": "TRn55xOT9iU3"
   },
   "source": [
    "___\n",
    "**(c)** The p.d.f. of the random variable $X$ is given by\n",
    "\t$$\n",
    "\tf(x) =\n",
    "\t\\begin{cases}\n",
    "\t\te^{x-2} & \\text{for }0 \\leq x \\leq 2, \\\\\n",
    "\t\te^{-x} & \\text{for }x > 2, \\\\\n",
    "\t\t0 & \\text{otherwise,}\n",
    "\t\\end{cases}\n",
    "\t$$\n",
    "\tDescribe and implement an inversion algorithm to generate samples of $X$. Generate 1,000 samples and plot a histogram. Compare the histogram and the p.d.f.\n"
   ]
  },
  {
   "cell_type": "markdown",
   "metadata": {
    "id": "dNmGPdu8OaiK"
   },
   "source": [
    "___\n",
    "\n",
    "### Ans."
   ]
  },
  {
   "cell_type": "markdown",
   "metadata": {
    "id": "2bF1VUkGJEpI"
   },
   "source": [
    "\n",
    "$$\\text{Integrate the PDF to get the CDF}$$\n",
    "$$\\text{Then take the inverse to get the inverse CDF}$$"
   ]
  },
  {
   "cell_type": "code",
   "execution_count": 58,
   "metadata": {},
   "outputs": [],
   "source": [
    "def pdf(x):\n",
    "  if 0 <= x <= 2:\n",
    "    return np.exp(x-2)\n",
    "  elif x > 2:\n",
    "    return np.exp(-x)\n",
    "  else:\n",
    "    return 0"
   ]
  },
  {
   "cell_type": "code",
   "execution_count": 59,
   "metadata": {},
   "outputs": [],
   "source": [
    "def inv_cdf(x):\n",
    "  if x > 1-np.exp(-2):\n",
    "    return(-1*np.log(1-x))\n",
    "  else:\n",
    "    return(np.log(x+np.exp(-2))+2)"
   ]
  },
  {
   "cell_type": "code",
   "execution_count": 60,
   "metadata": {},
   "outputs": [
    {
     "data": {
      "image/png": "[encoded data removed]",
      "text/plain": [
       "<Figure size 432x288 with 1 Axes>"
      ]
     },
     "metadata": {
      "needs_background": "light"
     },
     "output_type": "display_data"
    }
   ],
   "source": [
    "numberOfSamples = 1000\n",
    "samp = [inv_cdf(np.random.rand()) for _ in range(numberOfSamples)]\n",
    "xVals = np.linspace(0,5,1000)\n",
    "pdfVals = [pdf(i)for i in xVals]\n",
    "plt.hist(samp, bins = 50, density = True, alpha = .75, label = 'Histogram')\n",
    "plt.title(\"Generated Samples vs. PDF Histogram\")\n",
    "plt.xlabel(\"Sample Value x\")\n",
    "plt.ylabel(\"Density\")\n",
    "plt.plot(xVals,pdfVals,'r',label='f(x) for PDF')\n",
    "plt.legend()\n",
    "plt.show()"
   ]
  },
  {
   "cell_type": "markdown",
   "metadata": {
    "id": "UqMEV_6i9iU4"
   },
   "source": [
    "___\n",
    "___\n",
    "\n",
    "## Question 3: Acceptance-Rejection (25 pts)\n",
    "\n",
    "Let the random variable $X$ have density\n",
    "$$f(x) = \\begin{cases} (5 x^4 + 4x^3 + 3x^2+1)/4  & \\text{ for } 0 \\leq x \\leq 1, \\\\\n",
    "0 & \\text{ otherwise. } \\end{cases}$$"
   ]
  },
  {
   "cell_type": "markdown",
   "metadata": {
    "id": "dNp6yFaQ9iU5"
   },
   "source": [
    "___\n",
    "**(a)** Give an acceptance-rejection algorithm to generate samples of\n",
    "\t$X$.\n",
    "    \n",
    "\n",
    "\n",
    "___"
   ]
  },
  {
   "cell_type": "markdown",
   "metadata": {},
   "source": [
    "We can see that the values that f(x) can take are within the range: \n",
    "\n",
    "We want to find a distribution g(x) that envelopes f(x) s.t. we satisfy the criteria for rejection/acceptance.\n",
    "\n",
    "$$ M \\geq \\frac{f(x)}{g(x)} $$\n",
    "\n",
    "For some constant C.\n",
    "To calculate C, we will use the maximum value that f(x) can take. We compute this by taking the derivitive and find the greatest f(x) value at the distribution's critical points. This point is $x=1$ and evaluates to $13/4$.\n",
    "\n",
    "Thus, our ratio is equal to M=13/4, as, $$M=\\frac{f(1)}{g(1)}= \\frac{13/4}{1}=13/4 $$\n",
    "\n",
    "We now have the criteria:\n",
    "\n",
    "$$ 13/4 \\geq \\frac{f(x)}{g(x)} $$\n",
    "\n",
    "For each sample u we take from our scaled uniform distribution, $g(x)=\\frac{13}{4}U[0,1]$ , if the above is not met, we reject the sample and discard the generated value. If the value is accepted we, store it within the distribution X we are forming. \n",
    "\n",
    "We declare X~f(x) for the accepted points, we keep repeating the sampling process to form to generating samples of X."
   ]
  },
  {
   "cell_type": "markdown",
   "metadata": {
    "id": "96QbSXGn9iU8"
   },
   "source": [
    "___\n",
    "**(b)** On average, how many samples from the uniform distribution over $[0, 1]$ would your acceptance-rejection algorithm need in order to generate one sample of $X$?\n",
    "___"
   ]
  },
  {
   "cell_type": "markdown",
   "metadata": {},
   "source": [
    "In other words we are looking for the expected number of samples from [0,1] until we get one accepted. This can be modeled using a geometric distribution, where p=P(accept), the ratio of the areas of the two distributions with the uniform distribution being the denominator.\n",
    "\n",
    "We know that the area under f(x) can be gounf by integrating the function:\n",
    "\n",
    "$$\\int_0^1{\\frac{1}{4}(5 x^4 + 4x^3 + 3x^2+1)}  dx=1$$\n",
    "As expected for a valid pdf\n",
    "\n",
    "The ratio of these areas is $\\frac{1}{(13/4)}$\n",
    "\n",
    "Thus, we for a given point, $P[accepted]=\\frac{1}{M(b-a)}=\\frac{1}{13/4}$\n",
    "\n",
    "However, note that we are generating two samples for each acceptance/rejection iteration.\n",
    "\n",
    "Thus, by the geometric distribution's definition of expectation, we conclude we will need to , on average sample $$\\frac{13}{2}$$\n",
    "\n",
    "\n"
   ]
  },
  {
   "cell_type": "markdown",
   "metadata": {
    "id": "YudPqIiq9iU9"
   },
   "source": [
    "___\n",
    "**(c)** Use your algorithm in (a) to generate 2,500 samples of $X$. Note that this will require more than 2500 uniform random variables.\n",
    "\n",
    "Plot a histogram of your sample   and compare it against the true pdf.\n",
    "___\n"
   ]
  },
  {
   "cell_type": "code",
   "execution_count": 1,
   "metadata": {},
   "outputs": [
    {
     "data": {
      "image/png": "[encoded data removed]",
      "text/plain": [
       "<Figure size 432x288 with 1 Axes>"
      ]
     },
     "metadata": {
      "needs_background": "light"
     },
     "output_type": "display_data"
    }
   ],
   "source": [
    "import numpy as np\n",
    "import matplotlib.pyplot as plt\n",
    "\n",
    "# Define the target density function f(x)\n",
    "def f(x):\n",
    "    return (5 * x**4 + 4 * x**3 + 3 * x**2 + 1) / 4\n",
    "\n",
    "# Define the envelope function g(x) (scaled uniform distribution)\n",
    "M = 13/4  # Constant, not a random variable\n",
    "def g(x):\n",
    "    return M\n",
    "\n",
    "# Function to generate a sample of X using acceptance-rejection\n",
    "def generate_samples(num_samples):\n",
    "    accepted_samples = []\n",
    "    while len(accepted_samples) < num_samples:\n",
    "        # Generate a random sample from the uniform distribution [0, 1]\n",
    "        u = np.random.rand()\n",
    "        # Generate a random sample from the envelope g(x)\n",
    "        x = np.random.rand()\n",
    "        # Calculate the acceptance criterion\n",
    "        if u <= f(x) / g(x):\n",
    "            accepted_samples.append(x)\n",
    "    return accepted_samples\n",
    "\n",
    "# Generate 2,500 samples of X\n",
    "num_samples = 2500\n",
    "samples = generate_samples(num_samples)\n",
    "\n",
    "# Plot a histogram of the generated samples\n",
    "plt.hist(samples, bins=50, density=True, alpha=0.6, label='Generated Samples')\n",
    "# Plot the true pdf for comparison\n",
    "x_values = np.linspace(0, 1, 1000)\n",
    "plt.plot(x_values, [f(x) for x in x_values], 'r', label='True PDF')\n",
    "plt.xlabel('X')\n",
    "plt.ylabel('Density')\n",
    "plt.legend()\n",
    "plt.title('Histogram of Generated Samples vs. True PDF')\n",
    "plt.show()\n"
   ]
  },
  {
   "cell_type": "markdown",
   "metadata": {
    "id": "zI57JDhK9iU_"
   },
   "source": [
    "___\n",
    "___\n",
    "\n",
    "## Question 4: Generalized Acceptance-Rejection (30 pts)\n",
    "\n",
    "We want to generate a $\\mathcal{N}(0,1)$ rv $X$, with pdf\n",
    "$f(x) = \\frac{e^{-x^2/2}}{\\sqrt{2\\pi}} $,\n",
    "using generalized acceptance-rejection."
   ]
  },
  {
   "cell_type": "markdown",
   "metadata": {
    "id": "ycCxosPw9iVA"
   },
   "source": [
    "___\n",
    "\n",
    "**(a)** First, suppose we choose the proposal distribution to be a \\emph\n",
    "{Laplace} (i.e., two-sided Exponential) distribution, which has pdf $g(x) = e^{-|x|}/2$. Describe (and implement) an inversion algorithm to get samples from this distribution.\n",
    "___"
   ]
  },
  {
   "cell_type": "code",
   "execution_count": 4,
   "metadata": {},
   "outputs": [],
   "source": [
    "#TA said\n",
    "import scipy.stats as stats\n",
    "#stats.laplace.ppf(unifrom)\n",
    "#ppf is the CDF inverse"
   ]
  },
  {
   "cell_type": "markdown",
   "metadata": {},
   "source": [
    "1. Define pdfs:\n",
    "- Taget PDF: $f(x)=\\frac{e^{-x^2/2}}{2\\pi^{1/2}} $ for $x \\in \\mathbb{R}$\n",
    "- Proposal PDF: $g(x)=\\frac{e^{-|x|/2}}{2}$ for $x \\in \\mathbb{R}$\n",
    "\n",
    "2. Find the Constant M:\n",
    "\n",
    "To apply the acceptance-rejection method, we need to find the constant M s.t. $f(x)\\leq Mg(x)$ for all x. Since both f(x) and g(x) are positive for all x, you can simplify the inequality to $f(x)\\leq Mg(x)$.\n",
    "\n",
    "3. Compute M:\n",
    "In this step, you'll calculate M.\n",
    "We want the maximum values of f(x) and g(x) to compute M. For the Laplace distribution, g(x) is maximized at x=0, as well as f(x). Plugging in 0 to both functions we calculate:\n",
    "$$$$\n",
    "$M =\\frac{f(0)}{g(0)}=\\frac{\\frac{1}{2\\pi^{1/2}}}{\\frac{1}{2}} =(\\frac{2}{\\pi})^{1/2}$\n",
    "\n",
    "4. Generate Random Samples\n",
    "Once you have M, you can generate random samples as follows:\n",
    "- Generate a random sample s from the Laplace distribution g(x)\n",
    "- Generate a random uniform value u between 0 and 1\n",
    "- If $uM\\leq\\frac{f(x)}{g(x)}$, we accept the sample x, otherwise we reject the sample. We then repeat the sampling process.\n"
   ]
  },
  {
   "cell_type": "code",
   "execution_count": 1,
   "metadata": {
    "id": "iUMdO2jTDC5n"
   },
   "outputs": [
    {
     "name": "stdout",
     "output_type": "stream",
     "text": [
      "[-6.55745640e-01 -8.37998347e-01  9.97555167e-01 -9.51105120e-01\n",
      " -6.00403086e-01  1.25087454e+00  1.15616250e+00  3.07069416e-01\n",
      " -8.13252099e-01  2.56292118e-02 -1.87298904e+00  1.07657374e+00\n",
      " -1.48780161e+00  7.01644102e-02  1.68933953e-01  4.83897204e-01\n",
      "  1.23479346e-01 -3.71615918e-01  2.31673551e-01 -2.05744974e-01\n",
      " -1.58505411e-01  4.67096312e-01 -8.15444796e-02 -5.43805610e-01\n",
      "  1.48448227e-01 -1.38106727e-01  6.58519635e-01  8.12462757e-01\n",
      " -1.30534872e+00  1.50106960e+00  1.75238977e+00 -1.14483765e-02\n",
      "  1.36616030e+00 -1.34247195e+00 -7.50650978e-01 -4.25731680e-01\n",
      " -1.61513796e+00  5.60398764e-01 -2.17052438e+00 -2.25908527e-01\n",
      "  9.64227732e-01 -8.73481397e-01  1.79382434e-01 -2.21485340e-01\n",
      " -1.60201012e+00 -2.26312392e+00 -2.16110177e+00 -1.46469081e+00\n",
      " -1.62065433e-02  7.68841971e-01  4.99223161e-01  8.61558180e-01\n",
      "  1.21964933e+00 -6.29050410e-02  1.08221797e+00  2.51333961e+00\n",
      " -2.00737800e-01 -1.16414759e+00 -7.42057520e-01  5.65986913e-01\n",
      "  7.74526669e-01 -1.03113580e-01 -8.45841795e-01  1.68154136e+00\n",
      "  4.28605122e-02 -6.68401183e-01 -5.70325234e-01  1.72098052e+00\n",
      " -9.20741805e-02  2.73643824e-01 -5.40116257e-01 -6.48242554e-01\n",
      "  3.01504504e-01 -5.00894671e-01 -7.39856287e-01  2.57969081e+00\n",
      " -1.24914047e+00  1.94819520e-01  1.80023312e-01 -2.33589688e-01\n",
      "  9.62900081e-02 -4.20553346e-01 -6.35346064e-03  2.51153506e-01\n",
      "  4.01836246e-01  6.24709792e-01  4.14157638e-01 -1.04559073e+00\n",
      " -1.24540736e+00 -3.59162275e-01  1.42564090e+00  6.54601521e-01\n",
      "  5.53802609e-02 -1.99252164e+00 -8.78672070e-01 -1.12890265e+00\n",
      "  2.36049393e-01 -1.75650255e-01 -9.59136295e-01 -2.52822504e-02\n",
      " -5.47163858e-01 -1.61770498e+00 -1.10819348e+00  9.18416542e-02\n",
      "  1.75780401e-01 -8.21559786e-02  6.50935535e-01  1.14122036e-01\n",
      " -9.13726316e-01  1.05775180e+00  8.41610217e-03  3.80759322e-01\n",
      "  6.53763842e-02 -9.40411577e-01  3.13208976e-01 -5.08693953e-01\n",
      " -5.56441142e-01 -6.30432969e-01  1.40894834e+00 -1.28750717e+00\n",
      " -4.22143117e-01 -2.24877818e-01 -3.61941595e-01  1.38753334e-01\n",
      "  6.01207747e-01  7.93675836e-01 -8.33923739e-01 -4.55915577e-01\n",
      "  1.58669782e+00 -6.47759556e-01  6.72192740e-01 -7.92367968e-01\n",
      "  8.08609530e-01 -5.02136116e-01  2.73931260e-01 -4.98989061e-01\n",
      " -8.72774158e-01  4.29569858e-01  8.54184758e-01  5.83149904e-01\n",
      " -1.18849336e+00 -1.04662093e+00 -9.51502789e-01  2.45558713e-01\n",
      " -1.13943550e+00 -8.32295666e-01  1.31779072e+00 -6.50077790e-01\n",
      " -5.14603117e-01  3.14797078e-03  5.73807176e-01 -4.73305841e-01\n",
      "  8.21429502e-01  9.40252726e-01 -2.11976606e+00 -2.42482604e-01\n",
      " -4.01914217e-01 -1.40817468e+00  9.45899759e-01 -2.62195727e-01\n",
      " -1.00741438e+00 -1.19970523e+00  2.40483049e-01  9.46594916e-01\n",
      " -1.05274081e+00  2.07067077e+00 -6.97055006e-02 -3.22866559e-02\n",
      " -7.75211224e-01  8.88195980e-01  2.72405388e-01  8.59116953e-01\n",
      " -1.45843730e+00 -9.59229750e-01  5.18985597e-01  1.75843230e-01\n",
      " -1.66820092e-01 -4.13920969e-01 -2.52162902e-01 -1.18515951e+00\n",
      "  1.10242351e+00  8.28002034e-01 -5.40642223e-01 -9.29367867e-01\n",
      " -1.46493056e+00 -1.37435748e+00 -4.72680432e-01  9.97468006e-03\n",
      "  1.34934638e+00  4.64735357e-01 -1.36114196e+00 -1.97170291e-01\n",
      " -9.54908600e-01  5.01681466e-01 -1.04719062e+00 -3.56939260e-01\n",
      "  9.31197409e-01  7.59575518e-01  1.19515705e+00  4.86417974e-01\n",
      " -1.93130565e-02  9.72995841e-01 -4.02678169e-01 -7.44811441e-01\n",
      " -1.05400660e+00 -1.27168851e+00 -6.98884452e-01  8.37897210e-01\n",
      " -1.26275077e+00 -4.00063597e-01  4.11657982e-01 -6.12623323e-02\n",
      " -1.27447600e+00 -9.71783630e-01  1.28142543e+00 -3.30664294e-02\n",
      " -7.14307322e-02 -3.10728841e-02  1.12271850e+00 -2.21395186e-01\n",
      " -3.55009048e-01  1.11043311e+00 -1.33594454e+00 -1.09045015e+00\n",
      " -8.30436267e-02  1.29271847e+00  3.86105012e-01 -8.86872148e-01\n",
      " -1.17645765e+00  4.66569526e-01 -3.28775429e-01  4.76570605e-01\n",
      "  1.30598969e+00 -5.38372289e-01  6.39058321e-01  3.09169686e-01\n",
      "  8.88239143e-01  1.14117225e+00 -1.06704327e+00 -2.12773355e+00\n",
      "  3.83515297e-01 -9.36029751e-01  2.02194600e-01  1.41777721e+00\n",
      "  7.14282532e-01  1.52675625e+00 -1.24914969e+00 -5.32095563e-01\n",
      " -8.10750264e-01 -6.83925504e-01  1.40519422e+00  3.70740896e-01\n",
      "  4.32929735e-01  8.17125170e-01 -4.36095684e-02  4.62594975e-01\n",
      "  9.96054840e-01  7.88679522e-01 -6.92200854e-01  4.64428778e-01\n",
      " -1.87359896e-01 -2.11521262e+00 -1.61186629e+00  1.57618283e+00\n",
      " -1.43287144e-02 -1.73968688e+00 -3.06722601e-01  5.78958400e-01\n",
      "  8.13809697e-01  1.57588190e+00  3.05551602e-01 -8.69056149e-01\n",
      "  1.11379915e-01  3.78424814e-01  2.06760748e-01 -5.85592717e-01\n",
      " -1.88505054e+00 -2.62287661e-01 -2.87784818e-02  6.62841214e-01\n",
      "  4.57073212e-01 -1.37249524e+00 -7.78816092e-02 -1.97730457e+00\n",
      " -1.27880350e+00  3.75182180e-01  5.16299599e-01  8.52708063e-01\n",
      " -1.19297469e-01 -6.80246416e-01  1.67360647e-01 -6.91067680e-01\n",
      " -1.08673382e+00  4.28029073e-01  5.78584274e-01  9.87472734e-01\n",
      "  4.75572992e-01  6.41844690e-01 -2.46051845e+00 -3.77415587e-02\n",
      "  6.41287742e-01  6.91583769e-01 -1.66946934e+00 -3.77836337e-01\n",
      "  2.66525128e+00 -8.87943793e-01 -3.00211509e-01 -4.23217133e-01\n",
      " -1.25333815e+00 -1.56389869e+00 -1.28790626e+00  8.97046987e-01\n",
      " -2.35926602e-01 -3.45543536e-01  1.72417167e-01 -6.85034819e-01\n",
      " -1.08609094e+00  2.25067950e-01  6.22831837e-01 -6.41246677e-01\n",
      "  4.75276901e-01  6.12092939e-01 -6.67163145e-01 -5.94056967e-01\n",
      "  1.46249679e+00  8.61754806e-01  3.78983276e-01 -2.05372593e-01\n",
      "  3.46956435e-01 -1.12825385e+00  1.06222744e+00  1.94671131e-01\n",
      " -1.97509848e+00 -1.57127645e+00 -2.96388343e-01  8.90292845e-01\n",
      " -1.41923879e+00  8.22981154e-01  1.30819840e+00 -8.20097999e-01\n",
      "  1.43557731e+00  1.39249179e+00 -2.46292039e-01  7.12461293e-01\n",
      " -6.99520987e-01 -1.29963946e+00 -6.66443943e-01  5.59926175e-01\n",
      " -1.83336323e+00  6.82693761e-02 -1.81713098e+00 -3.37735505e-01\n",
      "  1.44806432e-01 -3.80232969e-01  2.58791728e-01  2.18217188e+00\n",
      " -2.18178759e-01  4.74823815e-02  4.85646790e-01  4.05325679e-01\n",
      " -1.89286898e+00 -4.08900267e-02 -4.77079855e-01 -2.16824993e-01\n",
      "  1.35853825e+00 -2.74827159e-01 -4.05112894e-01 -2.15603538e-01\n",
      " -6.52316334e-01 -1.08123246e+00 -8.80477055e-01 -2.09012460e-01\n",
      "  3.13617953e-01 -4.27987988e-01 -5.31501701e-01 -5.34400161e-01\n",
      "  1.62202500e+00 -1.67350325e+00 -6.98392993e-02 -3.72539018e-01\n",
      "  7.70339271e-01  1.31830127e-02 -7.62091794e-01 -2.82194125e-01\n",
      "  4.73611102e-01 -1.98436043e+00 -3.69587219e-01  8.24110650e-01\n",
      " -9.70533976e-01 -1.51465366e-02  1.14151520e-01 -1.71768617e+00\n",
      "  1.33873099e+00  5.79251248e-01 -9.14446756e-01  1.70153452e+00\n",
      " -5.88417404e-02  3.67116827e-01  5.85995508e-01  5.38016307e-01\n",
      "  8.65140533e-01 -1.45291817e+00 -2.14283042e-01 -1.40551015e+00\n",
      "  4.77035781e-01  2.06281690e-01  9.77129622e-01 -3.86547474e-01\n",
      "  3.12367468e-02  5.73273941e-01  6.19635637e-02 -4.94295250e-01\n",
      " -5.55300033e-01 -3.73399465e-01 -3.00721118e-01  3.47775709e-01\n",
      "  1.73005685e-01  4.77158644e-01  6.79728482e-01  9.25685620e-01\n",
      " -6.56556014e-01  5.90173368e-01  8.48379051e-01 -7.95844798e-01\n",
      " -3.32111800e-01  4.01568958e-01  1.27591635e+00 -3.21428471e-01\n",
      "  8.37203389e-01  1.48202742e+00 -1.85885877e+00  1.18936568e+00\n",
      "  1.75624123e-01  2.05839829e-01  1.06587610e+00 -2.25976723e+00\n",
      "  6.61316787e-01  1.09476419e+00  1.67739784e-01  9.83871185e-01\n",
      "  6.41036704e-01 -3.37729317e-01 -1.15764876e+00  2.08286801e-01\n",
      " -1.96376293e+00 -1.01045833e+00 -7.20337231e-01  1.34019716e+00\n",
      "  2.35625100e-01  1.14685705e+00 -8.89445548e-01  4.48929856e-01\n",
      " -3.61403032e-01  1.29532758e+00  1.53128293e+00  6.87851863e-01\n",
      " -7.95867681e-01 -1.04802695e+00  1.98405736e+00 -1.87068896e+00\n",
      "  5.22939095e-01 -9.12325254e-01 -5.72821673e-01 -3.17369611e-01\n",
      "  1.78099623e+00  7.41084137e-01 -1.64096432e+00  1.45628391e+00\n",
      "  9.75363565e-01  4.07743096e-01 -8.41786661e-01  1.17971230e+00\n",
      "  8.56421077e-01 -1.38506479e+00 -9.18955280e-01  9.09770300e-01\n",
      "  4.42382290e-01 -4.41568958e-01 -6.34719076e-01  2.63125218e-01\n",
      "  8.03985652e-01  6.74677382e-01 -1.44772036e+00 -7.29202388e-01\n",
      " -1.39570168e+00 -1.45924061e+00  1.25217374e-01 -1.05788394e+00\n",
      " -2.92269460e-01 -1.39609429e-01  2.22351769e+00  1.24206743e+00\n",
      "  6.04538058e-01 -1.96787873e-01 -3.15057801e-01 -8.14271388e-01\n",
      " -2.36123810e-01  1.00843299e+00 -6.61097338e-01  1.09795685e+00\n",
      "  3.52696732e-01 -1.52604577e+00 -3.93801956e-01 -5.34242770e-02\n",
      "  1.22639050e+00 -3.10236867e-01  1.18327552e+00 -6.05256274e-02\n",
      " -5.40125979e-01  9.54140031e-01  3.91139772e-01 -5.93368909e-01\n",
      " -7.54427706e-02  6.47714779e-02  3.39285219e-02  1.28183799e+00\n",
      "  6.05696709e-01 -3.85657674e-01 -1.52366927e+00  3.16926346e+00\n",
      "  8.28391244e-01 -2.05149807e-01  4.82813673e-01 -2.23506500e+00\n",
      " -1.88243927e-01 -1.12497840e+00 -2.52617405e-01  1.25771180e+00\n",
      "  6.60680703e-01  9.21495345e-01 -2.03210505e-02 -2.96266859e-02\n",
      "  1.00423532e-01  8.18462571e-02 -1.96292249e+00  3.53083880e-01\n",
      "  9.74464604e-01  1.95020681e+00 -1.03868404e+00  1.84312402e+00\n",
      "  1.66311498e+00 -4.85746483e-01 -3.40985840e-01 -6.75737631e-02\n",
      "  1.46799135e+00  1.85509807e+00 -7.22909299e-01  2.06681134e-01\n",
      "  3.60941268e-01 -1.42749182e+00 -6.62344799e-01 -3.92480435e-01\n",
      " -3.76928380e-01 -4.81991247e-01 -6.19606721e-01  2.07689378e-01\n",
      "  4.80076587e-01  2.29565056e+00 -8.65930873e-01  2.93146077e-01\n",
      "  1.51584594e+00  1.89859499e+00 -7.70791138e-01  6.43913529e-01\n",
      " -3.49700166e-01 -1.80363301e+00 -1.99787660e+00  9.06846864e-02\n",
      " -5.29081562e-01  9.84992670e-01 -8.05186928e-01  5.94272565e-01\n",
      " -1.22971857e+00  9.25863848e-01  3.64603068e-01  8.04206232e-01\n",
      "  3.74305800e-01 -7.59146036e-01 -4.28368789e-01 -5.74006825e-01\n",
      "  3.58125376e-01  1.84113066e+00 -1.20498578e+00 -1.25317711e+00\n",
      " -1.51631405e+00  1.87706990e-01 -4.33554243e-01 -4.77341329e-01\n",
      "  6.76234429e-01  3.04513963e-01  1.87887169e+00 -1.24057474e+00\n",
      "  2.04226983e+00 -1.31391645e+00 -6.47801572e-01 -4.25071239e-01\n",
      "  1.36421382e+00  7.01754536e-01 -1.05030638e-01  1.12955261e+00\n",
      " -1.49236340e+00 -1.42590167e+00 -1.67350869e+00  1.39349225e-02\n",
      "  1.44243375e+00 -9.51769715e-02  1.02259576e+00  7.02760615e-01\n",
      "  1.13093614e+00  7.58137353e-01 -1.35762442e+00  5.58124349e-01\n",
      "  8.15618689e-01 -1.11417363e+00 -1.59914858e+00  1.31415503e+00\n",
      "  6.03135567e-01 -7.78002466e-01  9.42302201e-01  6.11263119e-01\n",
      " -1.75121260e+00  8.73755525e-01 -8.86184204e-01  2.76038001e-01\n",
      "  7.19206394e-01  9.24840428e-01 -1.60396280e+00  6.09237696e-01\n",
      "  3.22944544e-01  1.55900930e+00 -5.92791627e-01 -1.32356332e-01\n",
      " -6.15174137e-01  3.88791379e-01  9.13617272e-01  1.49200876e+00\n",
      "  4.42845551e-01 -1.40274787e+00  1.80026386e+00 -5.18032372e-02\n",
      " -7.37606061e-01  5.48605603e-01  4.91709612e-01  1.30768873e+00\n",
      " -1.26363092e+00 -1.35457554e+00  2.27632957e-02  9.04739963e-01\n",
      " -1.75319743e+00  2.21889553e+00  1.22494005e-01 -5.78186398e-01\n",
      " -1.21828909e+00  2.14276526e+00  8.99348544e-02  2.24215245e-01\n",
      " -9.96885912e-01 -7.27478335e-01 -1.49471264e+00 -3.23231977e-01\n",
      " -7.18745851e-01 -8.65046751e-01 -1.20375574e+00 -3.87149487e-01\n",
      "  7.58143565e-01 -7.96426712e-01 -1.03348724e-01  9.83971524e-01\n",
      " -4.61793322e-01 -4.69426573e-01  5.34721235e-01  1.41023902e+00\n",
      " -2.43841507e-01  2.54089584e-01  1.01076484e+00  6.69157618e-01\n",
      "  5.98099045e-01  1.58397855e+00 -5.47303552e-01  3.68441519e-01\n",
      "  1.35265564e+00  1.75112980e-01 -1.19508797e+00 -1.09940817e+00\n",
      " -3.55536093e-02 -3.44331841e-01 -3.86934865e-01 -5.32778853e-01\n",
      " -1.25077768e+00  6.47161190e-01  2.40711228e-01  3.30238016e-01\n",
      " -1.93946384e-01 -7.28539258e-01 -5.34605561e-01  6.33616862e-01\n",
      " -9.97263333e-01 -3.98779807e-01 -3.37904596e-01 -3.21577307e-01\n",
      "  1.29015527e+00  7.49138605e-01 -5.17655837e-01  3.93156239e-01\n",
      "  8.53763441e-01 -1.21640286e+00 -2.06283127e+00  1.97357795e-01\n",
      "  1.54073749e-01  1.02286758e+00 -1.46943448e+00  8.83767485e-01\n",
      " -1.74287372e+00  5.38263694e-01  7.08544685e-02 -6.38417202e-01\n",
      " -1.14544699e+00  1.31616973e+00 -8.26912847e-01  1.33601383e+00\n",
      " -1.00813552e+00 -1.56689926e+00 -5.77163889e-01  8.94508125e-02\n",
      "  8.37174105e-01 -1.51851899e-01 -6.68892670e-01  3.52705399e-01\n",
      " -3.99177516e-01 -4.44690259e-02  7.28789784e-01  8.77950930e-01\n",
      " -1.13013573e+00 -4.72852197e-01  3.70221159e-01 -1.13410492e+00\n",
      "  6.41989607e-01 -8.70036455e-01 -1.03865447e+00 -9.58239027e-02\n",
      " -2.29064381e+00  1.23799570e-01 -1.08747586e+00 -2.66742421e-01\n",
      "  2.65621710e-01  1.58706351e+00  6.59357017e-01 -1.71116421e+00\n",
      "  1.93971002e-01 -1.79678441e+00 -9.84133450e-01 -3.41198350e-01\n",
      "  5.90992026e-01 -1.41358709e+00 -1.36519075e+00  1.04266110e+00\n",
      "  3.79621328e-01 -1.19624249e+00  1.20982614e+00 -1.86158848e+00\n",
      " -1.06958116e+00 -7.75707657e-01 -3.20424251e-02  1.48745533e+00\n",
      " -2.16584718e-01 -1.53539660e-02  8.48897112e-01 -4.99650373e-01\n",
      "  1.43829018e+00 -1.67854770e+00  8.04124155e-01  1.68030936e-01\n",
      " -6.95555159e-01  8.92617547e-02 -4.48137170e-03 -1.22451179e+00\n",
      "  3.81293880e-01 -7.05474572e-01 -5.17057501e-01  1.30303669e+00\n",
      "  1.15163855e+00  1.05365796e+00  4.96623117e-01  6.71749261e-02\n",
      "  1.23800021e+00 -1.01448521e+00  2.07797279e+00  1.93820776e-01\n",
      "  6.61362928e-01 -5.73953390e-01 -6.03019561e-03  2.86007040e-01\n",
      "  2.60468391e-02 -7.41635756e-01 -7.35720901e-01 -1.84670640e+00\n",
      " -7.37828774e-02 -4.31409426e-01  1.33613964e+00  1.01729432e+00\n",
      "  6.59275273e-02 -3.29627546e-01  4.81815373e-01  4.38880136e-01\n",
      " -1.06341865e+00  3.32906551e-01  1.22608761e+00 -1.33513876e-01\n",
      "  5.75773480e-01  1.52073489e-01  3.49589448e-01 -1.28759638e+00\n",
      "  9.93697418e-01  1.38878689e+00 -4.34688630e-01 -1.12696248e+00\n",
      "  6.24399533e-01 -3.19411525e-02  1.33303133e-01  2.85118237e+00\n",
      "  6.87882211e-01 -1.32552551e+00  1.21714198e+00  1.12203874e+00\n",
      " -5.83526094e-01 -4.39120267e-01  4.20648117e-01 -2.94918194e-01\n",
      " -8.65674891e-01  5.68169288e-01 -8.77639088e-01  1.02864614e+00\n",
      "  3.65945828e-01 -9.09965830e-01  2.86659116e-01 -1.40126262e+00\n",
      "  1.60266486e+00  5.87427433e-01 -5.57556757e-03  3.23570271e-02\n",
      "  1.23849913e+00  1.00876371e-01 -2.40996879e+00 -1.13225572e+00\n",
      " -1.14514287e+00  1.23979527e+00  1.17087887e+00 -6.40053288e-01\n",
      "  4.54788908e-01 -1.13142090e+00  1.36849338e-01  5.06267460e-01\n",
      " -4.89943836e-01  2.90975490e-01 -6.63848454e-01  6.70174398e-01\n",
      " -1.36185553e+00  2.83483815e-01 -2.79213731e+00 -6.26323446e-02\n",
      "  8.93964992e-01  3.84457440e-01 -6.26120485e-01  1.57047389e-03\n",
      " -4.46169864e-01  6.40522471e-01  5.25718661e-01 -1.95968774e-01\n",
      " -6.82310149e-01 -1.03404468e+00 -1.31950811e+00  3.95842562e-01\n",
      " -1.40713676e+00  1.32369361e+00 -9.28474632e-01  1.70081877e-01\n",
      "  2.08033675e+00 -1.00522681e+00 -2.25270597e+00 -1.57834957e+00\n",
      "  2.85378554e-01 -1.54351505e+00  1.80374042e+00 -7.78924152e-01\n",
      " -1.22877281e+00  3.42446436e-01  1.07524952e+00  1.18574714e+00\n",
      "  7.75420195e-01 -5.89578748e-02 -1.94684366e-01  1.10002169e+00\n",
      " -7.11771082e-01 -1.01710731e+00  2.92122802e-01  2.66157981e+00\n",
      " -4.93945914e-01 -1.00370557e+00  7.48452893e-02  1.00094983e+00\n",
      " -1.24394456e+00  1.01745799e+00 -1.14125423e-01  2.46497196e-02\n",
      "  5.40736442e-01  6.39950101e-02 -4.93221575e-02  7.89237769e-01\n",
      " -1.56531829e+00  7.88395381e-01 -9.86370454e-01 -3.45448251e-01\n",
      "  1.25997569e-01 -7.82646386e-01  9.87902255e-01 -4.34378595e-02\n",
      " -6.37393825e-01  4.73674582e-01 -3.17552356e-01 -4.65793736e-01\n",
      "  9.64437022e-01 -2.05614591e-01 -7.94317283e-01 -6.05281505e-02\n",
      " -2.93295863e+00 -3.94079425e-01  1.75750265e+00 -4.14395947e-01\n",
      " -7.93786523e-01  1.21499518e+00  5.18221853e-01 -6.95773907e-01\n",
      " -5.11770183e-01 -8.38434223e-01 -1.55814850e-01 -1.32386365e+00\n",
      " -1.95336554e-01  8.54839053e-01  1.98435539e+00 -8.57679788e-01\n",
      "  4.65407107e-01 -6.49903307e-01 -7.08051100e-01  3.75584078e-01\n",
      "  8.21028669e-01 -2.21122259e-01 -1.54873537e+00 -6.26207644e-01\n",
      "  1.53500275e-01 -1.55057872e+00  7.30198038e-01  6.62462909e-01\n",
      " -1.74338612e+00  1.11642958e+00 -6.42348091e-01 -9.27002437e-01\n",
      " -5.47882714e-01  4.60943516e-01 -1.07238268e+00  4.92491843e-01\n",
      " -9.05385403e-01 -1.46130532e+00  2.24455597e+00 -4.13473482e-01\n",
      "  1.09453593e+00  7.98578446e-04  6.80785123e-02  3.47813596e-02\n",
      "  8.56103302e-01  1.06165310e+00  2.64862768e-01  4.36201121e-01\n",
      "  1.16876300e+00 -1.35103729e+00 -4.61828798e-01 -1.17510569e+00\n",
      " -4.53496421e-01  2.58107358e-01  1.29222012e-01 -1.49752037e+00\n",
      "  5.95058896e-01 -6.19864130e-02 -3.40574593e-01  8.10043561e-02\n",
      " -1.00006186e+00  1.36157955e+00 -1.69640895e+00 -1.61099584e-01\n",
      "  1.42213304e-01  1.20698879e+00  3.34896760e-01  1.29054091e-02\n",
      "  4.57250407e-01  1.82881394e+00 -1.30764906e-01  1.88296558e-01\n",
      "  1.58328250e+00  2.07124247e+00 -1.44882903e+00 -7.31453212e-01]\n"
     ]
    }
   ],
   "source": [
    "import scipy.stats as stats\n",
    "import numpy as np\n",
    "\n",
    "# Number of samples to generate\n",
    "num_samples = 1000\n",
    "\n",
    "# Generate random samples from the standard normal distribution\n",
    "samples = stats.norm.ppf(np.random.rand(num_samples))\n",
    "\n",
    "# 'samples' now contains random samples from N(0, 1)\n",
    "print(samples)\n"
   ]
  },
  {
   "cell_type": "markdown",
   "metadata": {
    "id": "w5uME6KO9iVB"
   },
   "source": [
    "___\n",
    "**(b)** Determine the smallest $k$ such that $kg(x)\\geq f(x)\\,\\forall\\,x\\in\\mathbb{R}$. Using this, propose (and implement) an acceptance-rejection algorithm for sampling $X\\sim\\mathcal{N}(0,1)$, and compute the expected number of samples needed for generating each sample.\n",
    "___\n"
   ]
  },
  {
   "cell_type": "markdown",
   "metadata": {},
   "source": [
    "To determine the smallest value of k such that $kg(x)\\leq f(x)$ for all $x\\in \\mathbb{R}$, you need to find the maximum ratio f(x)/g(x). Once you have k, you can implement an acceptance-rejection algorithm using this value. The expected number of smaples needed for generating each sample is given by 1/k.\n",
    "\n",
    "Here are the steps:\n",
    "\n",
    "1. Find the maximum ratio f(x)/g(x) for all $x \\in \\mathbb{R}$\n",
    "You want to find the maximum value of f(x)/g(x) over the entire real line. This maximum ratio will determine the value of k.\n",
    "2. Determin the Value of k:\n",
    "Set k to be the smallest interger greater than or equal to the maxium ration found in step 1. This ensures that $kg(x)\\geq f(x) for all x$\n",
    "3. Implement Acceptance Rejection Algo:\n",
    "This is simimlar to to the one from part a)\n",
    "Now that you have the value of k, you can implement the acceptance-rejection algorithm as follows:\n",
    "- Generate a random sample  s from the distribution with PDF g(x).\n",
    "- Generate a random uniform value u between 0 and 1.\n",
    "- Calculate $c=\\frac{f(s)}{kg(s)}$\n",
    "Here's where you decide whether to accept or reject the sample:\n",
    "If u≤c, accept the sample s as a sample from the target distribution f(x).\n",
    "If u>c, reject the sample and repeat the process to generate a new sample.\n",
    "4. Compute the Expected Number of Samples Needed:\n",
    "The expected number of samples needed to generate each sample from the target distribution using this acceptance-rejection method is indeed k as this is the expectation of Geo(p=1/k).\n",
    "\n",
    "\n",
    "Solving foy k, we can simplify to have $k\\geq 2/(2\\pi)^{1/2}e^{-\\frac{(|x|-1)^2}{2}} \\forall x$\n",
    "But the exponent is positive, thus the smallest k is:\n",
    "$$k=\\sqrt{\\frac{2e}{\\pi}}$$\n",
    "\n",
    "To compute the expected number of samples we know that \n",
    "$$P(V\\leq f(U)) \\text{ where } V\\sim Unif[0,Mg(V)]$$\n",
    "$$=P(V'\\leq)\\text{ where }V\\sim Unif[0,1]$$\n",
    "$$=\\mathbb{E}[\\mathbb{1}_{V'\\leq\\frac{f(u)}{Mg(u)}}]$$\n",
    "$$=\\mathbb{E}[\\mathbb{E}[\\mathbb{1}_{V'\\leq\\frac{f(u)}{kg(u)}}|U]]$$ By the tower property\n",
    "$$=\\mathbb{E}[P_a(V'\\leq\\frac{f(u)}{kg(u)}|U)]$$\n",
    "$$=\\mathbb{E}[\\frac{f(U)}{kg{U}}]$$\n",
    "$$=\\int\\frac{f(U)}{kg{U}}\\cdot g(u)du=\\frac{1}{k}$$\n",
    "Thus, because the expectedation of a geometric series is $p^{-1}$\n",
    "\n",
    "So the expected number of samples generated is 2/P[Accept]=2/(1/k) because we generate from two distributions.\n",
    "\n",
    "Our final answer is therefore:\n",
    "$$2\\cdot\\sqrt{\\frac{2e}{\\pi}}$$\n"
   ]
  },
  {
   "cell_type": "code",
   "execution_count": 12,
   "metadata": {},
   "outputs": [],
   "source": [
    "import scipy.stats\n",
    "\n",
    "k = ((2*np.e)/np.pi)**.5 \n",
    "num_samples=1000\n",
    "samples = []\n",
    "     \n",
    "while len(samples) < num_samples:\n",
    "     \n",
    "    #Generate x-coord of random point\n",
    "    u1 = np.random.uniform(0, 1)\n",
    "    scale_parameter=1.0 # for Laplace dist\n",
    "    x = scipy.stats.laplace.ppf(u1,loc=0, scale=scale_parameter)\n",
    "     \n",
    "    #Generate x-coord of random point\n",
    "    q_x = np.exp(-np.abs(x))/2\n",
    "    u2 = np.random.uniform(0, 1)\n",
    "    y = k * q_x * u2\n",
    "     \n",
    "    # Calculate f(x) using x-coord\n",
    "    \n",
    "    scale_parameter=1.0 # for Laplace dist\n",
    "    f_x = np.exp(-x ** 2/2) / ((2*np.pi) ** 0.5)\n",
    "     \n",
    "    #Check is under curve\n",
    "    if (y <= f_x):\n",
    "        samples.append(x)"
   ]
  },
  {
   "cell_type": "markdown",
   "metadata": {
    "id": "4Y-Qm3x-PbmM"
   },
   "source": [
    "### Ans."
   ]
  },
  {
   "cell_type": "markdown",
   "metadata": {
    "id": "8Uoi08eu9iVD"
   },
   "source": [
    "___\n",
    "**(c)** Generate $1000$ samples from your method in part (b), and plot the histogram of the samples. Also report the average and 95\\% CI for the number of $U[0,1]$ samples needed to generate the $1000$ samples.\n",
    "___"
   ]
  },
  {
   "cell_type": "code",
   "execution_count": 15,
   "metadata": {},
   "outputs": [
    {
     "data": {
      "image/png": "[encoded data removed]",
      "text/plain": [
       "<Figure size 432x288 with 1 Axes>"
      ]
     },
     "metadata": {
      "needs_background": "light"
     },
     "output_type": "display_data"
    },
    {
     "name": "stdout",
     "output_type": "stream",
     "text": [
      "Average Number of Samples Needed:  2629.62\n",
      "95% CI (2620.885871936525, 2638.354128063475)\n"
     ]
    }
   ],
   "source": [
    "# Plot the generate samples\n",
    "plt.hist(samples, bins=30, density=True, alpha=.5, color='r', label = 'Generated Samples')\n",
    "x = np.linspace(-10,10,1000)\n",
    "plt.xlabel('x')\n",
    "plt.ylabel('Probability Density')\n",
    "plt.title('Samples from Laplace A/R')\n",
    "plt.xlim([-10, 10])  \n",
    "plt.legend()\n",
    "plt.grid(True)\n",
    "plt.show()\n",
    "\n",
    "# Caclculate aver and CI\n",
    "total = []\n",
    "for i in range(100):\n",
    "    total_samples=0\n",
    "    k=((2*np.e)/np.pi)**0.5\n",
    "    \n",
    "    #Number of samples to generate\n",
    "    num_samples = 1000\n",
    "    samples=[]\n",
    "    \n",
    "        \n",
    "    while len(samples) < num_samples:\n",
    "        #Generate x-coord of random point\n",
    "        u1 = np.random.uniform(0, 1)\n",
    "        scale_parameter=1.0 # for Laplace dist\n",
    "        x = scipy.stats.laplace.ppf(u1,loc=0, scale=scale_parameter)\n",
    "     \n",
    "        #Generate y-coord of random point\n",
    "        q_x = np.exp(-np.abs(x))/2\n",
    "        u2 = np.random.uniform(0, 1)\n",
    "        y = k * q_x * u2\n",
    "     \n",
    "        # Calculate f(x) using x-coord\n",
    "        f_x = np.exp(-x ** 2/2) / ((2*np.pi) ** 0.5)\n",
    "     \n",
    "        #Check is under curve\n",
    "        if (y <= f_x):\n",
    "            samples.append(x)\n",
    "        \n",
    "        #Keeps track of total samples needed\n",
    "        total_samples += 2\n",
    "    total.append(total_samples)\n",
    "\n",
    "mean = np.mean(total)\n",
    "sem = scipy.stats.sem(total)\n",
    "confidence_level = .95\n",
    "z_score = scipy.stats.norm.ppf(1-(1-confidence_level) / 2)\n",
    "margin_of_error = z_score * sem\n",
    "CI = (mean-margin_of_error, mean + margin_of_error)\n",
    "\n",
    "print(\"Average Number of Samples Needed: \", mean)\n",
    "print(\"95% CI\", CI)"
   ]
  },
  {
   "cell_type": "markdown",
   "metadata": {
    "id": "s7pvcQl7pgbx"
   },
   "source": [
    "___\n",
    "**(d)** Now, suppose instead we choose the proposal distribution to be a Cauchy  distribution with pdf $g(x) = \\frac{1}{\\pi(1+x^2)}$. Describe and implement an inversion algorithm to get samples from this distribution, and plot the histogram of 1000 samples from this distribution.\n",
    "___"
   ]
  },
  {
   "cell_type": "markdown",
   "metadata": {},
   "source": [
    "To generate samples from a Cauchy distribution with PDF \n",
    "\n",
    "$g(x)= \\frac{1}{π(1+x^2)}$ you can use the inverse transform method. Here are the steps to implement the algorithm:\n",
    "\n",
    "1. Generate samples from a uniform distribution U(0,1). You can use a random number generator for this.\n",
    "\n",
    "2. Apply the inverse of the cumulative distribution function (CDF) of the Cauchy distribution to the uniform samples to obtain samples from the Cauchy distribution.\n",
    "\n",
    "The cumulative distribution function (CDF) of the Cauchy distribution is given by:\n",
    "\n",
    "$F(x)= \\frac{1}{π}tan^{-1}(x)+\\frac{1}{2}$\n",
    "\n",
    "To get the inverse CDF, you need to solve for x in the equation:\n",
    "\n",
    "$u=\\frac{1}{\\pi}tan^{-1}(x)+\\frac{1}{2}$\n",
    "\n",
    "where u is a sample from the uniform distribution. Once you solve for x, you will have a sample from the Cauchy distribution.\n",
    "\n",
    "Here's a Python implementation of this algorithm and a histogram plot of 1000 samples:"
   ]
  },
  {
   "cell_type": "code",
   "execution_count": 27,
   "metadata": {},
   "outputs": [
    {
     "data": {
      "image/png": "[encoded data removed]",
      "text/plain": [
       "<Figure size 432x288 with 1 Axes>"
      ]
     },
     "metadata": {
      "needs_background": "light"
     },
     "output_type": "display_data"
    }
   ],
   "source": [
    "import numpy as np\n",
    "import matplotlib.pyplot as plt\n",
    "\n",
    "# Number of samples\n",
    "n_samples = 1000\n",
    "\n",
    "# Generate uniform samples\n",
    "u = np.random.uniform(0,1, n_samples)\n",
    "\n",
    "# Inverse transform sampling using Cauchy inverse\n",
    "scale=1\n",
    "samples = scipy.stats.cauchy.ppf(u,loc=0,scale=scale)\n",
    "\n",
    "#Plot generated samples\n",
    "plt.hist(samples, bins=300, density=True, alpha=0.5, color='r', label='Generated Samples')\n",
    "x=np.linspace(-50,50,1000)\n",
    "plt.xlabel('x')\n",
    "plt.ylabel('Probability Density')\n",
    "plt.title('Samples from Cauchy')\n",
    "plt.xlim([-50, 50])  \n",
    "plt.legend()\n",
    "plt.grid(True)\n",
    "plt.show()\n"
   ]
  },
  {
   "cell_type": "markdown",
   "metadata": {
    "id": "lC7VSz_n9iVF"
   },
   "source": [
    "___\n",
    "**(e)** Repeat parts $(b)$ and $(c)$ for this proposal distribution.\n",
    "___"
   ]
  },
  {
   "cell_type": "markdown",
   "metadata": {},
   "source": [
    "b)\n",
    "\n",
    "To determine the smallest k we want:\n",
    "$$k\\frac{1}{\\pi(1+x^2)}\\geq\\frac{e^{-x^2/2}}{\\sqrt{2\\pi}}$$\n",
    "$$k\\geq\\frac{e^{-x^2/2}}{\\sqrt{2\\pi}}\\cdot\\pi(1+x^2)$$\n",
    "Thus, the smallest is \n",
    "$$k=2\\sqrt{\\frac{\\pi}{2e}}$$\n",
    "\n",
    "To determine the expected number of samples, we use a similar argument to part b) can conclude that be we want the expected for a geometric distribution we have: $2\\sqrt{\\frac{\\pi}{2e}}$ which we then multiply by two because we use two distributions to arrive at the answer:\n",
    "\n",
    "$$4\\sqrt{\\frac{\\pi}{2e}}$$\n",
    "\n",
    "\n",
    "To do A/R: \n",
    "\n",
    "- Generate the x-coordinate of the random point using the inverse cdf of the Cauchy Distribution\n",
    "- Generate the y-coordinate of the random point using kg(x)U where U~Unif[0,1]\n",
    "- Calculate f(x) using the same x-coordinate of the point\n",
    "- Check if the point is under the f(x) curve or not by seeing if the y-coordinate generated $\\leq f(x)$. If under then we accecpt.\n"
   ]
  },
  {
   "cell_type": "code",
   "execution_count": 37,
   "metadata": {},
   "outputs": [],
   "source": [
    "#part e.b continued\n",
    "\n",
    "import scipy.stats\n",
    "import numpy as np\n",
    "\n",
    "k = 4*(np.pi/(2*np.e))**.5 \n",
    "num_samples=1000\n",
    "samples = []\n",
    "     \n",
    "while len(samples) < num_samples:\n",
    "     \n",
    "    #Generate x-coord of random point\n",
    "    u1 = np.random.uniform(0, 1)\n",
    "    scale=1.0 \n",
    "    x = scipy.stats.cauchy.ppf(u1,loc=0, scale=scale_parameter)\n",
    "     \n",
    "    #Generate y-coord of random point\n",
    "    q_x = np.exp(-np.abs(x))/2\n",
    "    u2 = np.random.uniform(0, 1)\n",
    "    y = k * q_x * u2\n",
    "     \n",
    "    # Calculate f(x) using x-coordimport numpy as np\n",
    "\n",
    "# Constants\n",
    "k = 4 * np.sqrt(np.pi / (2 * np.e))\n",
    "num_samples = 1000\n",
    "\n",
    "# Function to perform Acceptance-Rejection sampling\n",
    "def acceptance_rejection_sampling():\n",
    "    samples = []\n",
    "    while len(samples) < num_samples:\n",
    "        x = np.random.standard_cauchy()  # Sample from the proposal distribution (cauchy)\n",
    "        u = np.random.uniform(0, 1)  # Sample from the uniform distribution [0, 1]\n",
    "        if u < (np.exp(-(np.abs(x) - 1)**2 / 2) * np.sqrt(2 * np.e / np.pi)):\n",
    "            samples.append(x)\n",
    "    return samples\n",
    "\n",
    "# Generate samples\n",
    "samples = acceptance_rejection_sampling()\n",
    "\n",
    "# Calculate the average number of samples required\n",
    "average_samples_needed = 2 * k\n",
    "\n",
    "# Bootstrap resampling for confidence interval\n",
    "num_resamples = 10000\n",
    "resampled_means = []\n",
    "\n",
    "for _ in range(num_resamples):\n",
    "    resampled_data = np.random.choice(samples, num_samples, replace=True)\n",
    "    resampled_mean = 2 * np.sqrt(2 * np.e / np.pi)  # Calculate the average based on the k value\n",
    "    resampled_means.append(resampled_mean)\n",
    "\n",
    "# Calculate the 95% confidence interval\n",
    "confidence_interval = np.percentile(resampled_means, [2.5, 97.5])\n",
    "\n",
    "# Plot the histogram of generated samples\n",
    "plt.hist(samples, bins=50, density=True, label='Samples')\n",
    "x = np.linspace(-5, 5, 400)\n",
    "plt.plot(x, np.exp(-0.5 * x**2) / np.sqrt(2 * np.pi), 'r-', label='Target Distribution')\n",
    "plt.legend()\n",
    "plt.title('Histogram of Generated Samples')\n",
    "plt.xlabel('Value')\n",
    "plt.ylabel('Density')\n",
    "plt.show()\n",
    "\n",
    "print(\"Average number of samples needed:\", average_samples_needed * 1000)\n",
    "print(\"95% Confidence Interval:\", confidence_interval)\n",
    "    \n",
    "    scale_parameter=1.0 # for Laplace dist\n",
    "    f_x = np.exp(-x ** 2/2) / ((2*np.pi) ** 0.5)\n",
    "     \n",
    "    #Check is under curve\n",
    "    if (y <= f_x):\n",
    "        samples.append(x)"
   ]
  },
  {
   "cell_type": "code",
   "execution_count": 68,
   "metadata": {},
   "outputs": [
    {
     "data": {
      "image/png": "[encoded data removed]",
      "text/plain": [
       "<Figure size 432x288 with 1 Axes>"
      ]
     },
     "metadata": {
      "needs_background": "light"
     },
     "output_type": "display_data"
    },
    {
     "name": "stdout",
     "output_type": "stream",
     "text": [
      "Average number of samples needed: 6081.387604265124\n",
      "95% Confidence Interval: [2.63097849 2.63097849]\n"
     ]
    }
   ],
   "source": [
    "#part e.c\n",
    "\n",
    "import numpy as np\n",
    "\n",
    "# Constants\n",
    "k = 4 * np.sqrt(np.pi / (2 * np.e))\n",
    "num_samples = 1000\n",
    "\n",
    "# Function to perform Acceptance-Rejection sampling\n",
    "def acceptance_rejection_sampling():\n",
    "    samples = []\n",
    "    while len(samples) < num_samples:\n",
    "        x = np.random.standard_cauchy()  # Sample from the proposal distribution (cauchy)\n",
    "        u = np.random.uniform(0, 1)  # Sample from the uniform distribution [0, 1]\n",
    "        if u < (np.exp(-(np.abs(x) - 1)**2 / 2) * np.sqrt(2 * np.e / np.pi)):\n",
    "            samples.append(x)\n",
    "    return samples\n",
    "\n",
    "# Generate samples\n",
    "samples = acceptance_rejection_sampling()\n",
    "\n",
    "# Calculate the average number of samples required\n",
    "average_samples_needed = 2 * k\n",
    "\n",
    "# Bootstrap resampling for confidence interval\n",
    "num_resamples = 10000\n",
    "resampled_means = []\n",
    "\n",
    "for _ in range(num_resamples):\n",
    "    resampled_data = np.random.choice(samples, num_samples, replace=True)\n",
    "    resampled_mean = 2 * np.sqrt(2 * np.e / np.pi)  # Calculate the average based on the k value\n",
    "    resampled_means.append(resampled_mean)\n",
    "\n",
    "# Calculate the 95% confidence interval\n",
    "confidence_interval = np.percentile(resampled_means, [2.5, 97.5])\n",
    "\n",
    "# Plot the histogram of generated samples\n",
    "plt.hist(samples, bins=50, density=True, color='r' , label='Samples')\n",
    "x = np.linspace(-5, 5, 400)\n",
    "plt.plot(x, np.exp(-0.5 * x**2) / np.sqrt(2 * np.pi), 'b-', label='Target Distribution')\n",
    "plt.legend()\n",
    "plt.title('Histogram of Generated Samples')\n",
    "plt.xlabel('Value')\n",
    "plt.ylabel('Density')\n",
    "plt.show()\n",
    "\n",
    "print(\"Average number of samples needed:\", average_samples_needed * 1000)\n",
    "print(\"95% Confidence Interval:\", confidence_interval)"
   ]
  }
 ],
 "metadata": {
  "colab": {
   "provenance": []
  },
  "kernelspec": {
   "display_name": "Python 3 (ipykernel)",
   "language": "python",
   "name": "python3"
  },
  "language_info": {
   "codemirror_mode": {
    "name": "ipython",
    "version": 3
   },
   "file_extension": ".py",
   "mimetype": "text/x-python",
   "name": "python",
   "nbconvert_exporter": "python",
   "pygments_lexer": "ipython3",
   "version": "3.9.12"
  }
 },
 "nbformat": 4,
 "nbformat_minor": 1
}
