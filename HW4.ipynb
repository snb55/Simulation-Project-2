{
 "cells": [
  {
   "cell_type": "markdown",
   "metadata": {
    "id": "yEYDm_ICb4GC"
   },
   "source": [
    "# ORIE 4580/5580/5581 Assignment 4\n",
    "\n",
    "#### Students: Sean Benko (snb55)m, Sean Hansen (seh52)\n",
    "#### References: ChatGPT\n",
    "\n",
    "### Github link: [example Github link](https://github.com/snb55/Simulation-Projects)\n"
   ]
  },
  {
   "cell_type": "markdown",
   "metadata": {
    "id": "l3G_wUFRg9v6"
   },
   "source": [
    "### Instructions\n",
    "\n",
    "\n",
    "* Due Friday September 29, at 11.59am on Gradescope.\n",
    "* Assignment .ipynb files available for download on [Canvas](https://canvas.cornell.edu/courses/56826#:~:text=Assignments-,Assignments,-Assignments%20Module%20publish). Do all your work in provided notebook (text answers typeset in markdown; show all required code and generate plots inline), and then generate and submit a pdf.\n",
    "* Ideally do assignments in groups of 2, and submit a single pdf with both names\n",
    "* Please show your work and clearly mark your answers.\n",
    "* You can use any code fragments given in class, found online (for example, on StackOverflow), or generated via Bard or ChatGPT (you are encouraged to use these for first drafts) **with proper referencing**. You can also discuss with others (again, please reference them if you do so); but you must write your final answers on your own as a team.\n",
    "\n",
    "\n",
    "\n",
    "### Suggested reading\n",
    "\n",
    "Chapters 5 (sections 5.1, 5.2 and 5.3) and 6, as well as chapter 11 (to revise again what we discussed in class about confidence intervals) of [Simulation by Ross](https://catalog.library.cornell.edu/catalog/12745977)."
   ]
  },
  {
   "cell_type": "markdown",
   "metadata": {
    "id": "5AMJpIgg0AUP"
   },
   "source": [
    "\n",
    "\n",
    "\n",
    "---\n",
    "---\n",
    "\n",
    "\n",
    "# Question 1: Multivariate normals, and some finance (20 points)\n",
    "\n",
    "\n",
    "Assume the following means and covariance matrix for the net annual returns (annual returns after accounting for inflation) on three investments:\n",
    "\n",
    "$$\\boldsymbol{\\mu}=\n",
    "\\begin{bmatrix}\n",
    "    \\mu_{\\text{U.S. stocks}}\\\\\n",
    "    \\mu_{\\text{U.S. bonds}}\\\\\n",
    "    \\mu_{\\text{EM bonds}}\n",
    "\\end{bmatrix}=\n",
    "\\begin{bmatrix}\n",
    "    0.14 \\\\\n",
    "    0.07 \\\\\n",
    "    0.16\\\\\n",
    "\\end{bmatrix},$$\n",
    "\n",
    "Moreover, we have $\\sigma^2_{\\text{U.S. stocks}}=0.0625, \\sigma^2_{\\text{U.S. bonds}}=0.01$ and $\\sigma^2_{\\text{EM bonds}}=0.09$. Assuming all three instruments are independent of each other, what is the probability that all three financial products simultaneously yield a positive return?\n"
   ]
  },
  {
   "cell_type": "markdown",
   "metadata": {
    "id": "FdZFPY8J00Nz"
   },
   "source": [
    "___\n",
    "## Ans.\n"
   ]
  },
  {
   "cell_type": "markdown",
   "metadata": {
    "id": "kHPnqRj105lL"
   },
   "source": [
    "___\n",
    "\n",
    "**(b)** Next, assume that the assets are not independent, but rather, have covariance matrix\n",
    "$$\\boldsymbol{\\Sigma}=\n",
    "\\begin{bmatrix}\n",
    "    0.0625 & -0.01 & 0.0375 \\\\\n",
    "    -0.01 & 0.01 & -0.015 \\\\\n",
    "    0.0375 & -0.015 & 0.09\n",
    "\\end{bmatrix}.$$\n",
    "\n",
    "Using simulation, estimate the probability that all three financial products simultaneously yield a positive return.\n",
    "For the purposes of this problem, you are **not allowed** to use the Python function ${\\tt numpy.random.multivariate\\_normal}$, but rather, should generate *independent* normal rvs, and then apply the method(s) discussed in class.\n",
    "In particular, you can compute the Cholesky decomposition of the covariance matrix using the Python function ${\\tt scipy.linalg.cholesky(sigma, lower=True)}$.\n",
    "___"
   ]
  },
  {
   "cell_type": "markdown",
   "metadata": {
    "id": "o-b5c59b2CV-"
   },
   "source": [
    "## Ans.\n",
    "\n"
   ]
  },
  {
   "cell_type": "code",
   "execution_count": null,
   "metadata": {
    "id": "mT-3ogKx2Hzl"
   },
   "outputs": [],
   "source": []
  },
  {
   "cell_type": "markdown",
   "metadata": {
    "id": "YX0Mw-EVb4GE"
   },
   "source": [
    "___\n",
    "___\n",
    "\n",
    "# Question 2: Covariance and copulas (30 points)\n",
    "\n",
    "In general (i.e., apart from multivariate normals), *there is no closed form formula for generating rvs with given marginals and given covariance matrix*. However, a popular heuristic is the so-called *Gaussian copula trick*, which is widely used in finance. In this question, we will try and get a sense of how we can generate correlated uniforms, and how the Gaussian copula trick works."
   ]
  },
  {
   "cell_type": "markdown",
   "metadata": {
    "id": "Yjy3dHqpb4GF"
   },
   "source": [
    "___\n",
    "\n",
    "**(a)** We will first try and make a method for generating two correlated uniform random variables $V_1$, $V_2$ with mean $\\mathbb{E}[V_1]=\\mathbb{E}[V_2]=0$, variance $Var(V_1)=Var(V_2)=1$, and covariance $Cov( V_1, V_2 ) = \\sigma_{12}$ (for some given $\\sigma_{12}\\geq 0$).\n",
    "\n",
    "For what $\\alpha,\\beta\\in\\mathbb{R}$ does a uniform distribution on $[\\alpha,\\beta]$ have mean $0$ and variance $1$.\n",
    "___\n"
   ]
  },
  {
   "cell_type": "markdown",
   "metadata": {
    "id": "wOQnI769b4GF"
   },
   "source": [
    "## Ans.\n"
   ]
  },
  {
   "cell_type": "markdown",
   "metadata": {
    "id": "DRpHC9hbb4GF"
   },
   "source": [
    "___\n",
    "\n",
    "**(b)** Next, generate rvs $X_1,X_2\\sim Uniform[\\alpha, \\beta]$ i.i.d (with $\\alpha,\\beta$ from previous part), and also sample $B\\sim Bernoulli(p)$. Define:\n",
    "\\begin{align*}\n",
    "\tV_1 = X_1 \\qquad,\\qquad\n",
    "\tV_2 = (1-B)X_1+BX_2 = \\begin{cases} X_1 & \\text{ if $B = 0$} \\\\ X_2 & \\text{ if $B = 1$} \\end{cases}\n",
    "\t\\end{align*}\n",
    "\n",
    "What is $\\mathbb{E}[V_2]$ and $Var(V_2)$?\n",
    "___"
   ]
  },
  {
   "cell_type": "markdown",
   "metadata": {
    "id": "1khe5-56b4GF"
   },
   "source": [
    "## Ans.\n"
   ]
  },
  {
   "cell_type": "markdown",
   "metadata": {
    "id": "RTfG42xCb4GF"
   },
   "source": [
    "___\n",
    "**(c)** For what value of $p$ do we get $Cov(V_1, V_2 )=\\sigma_{12}$ (for $\\sigma_{12}\\geq 0$)?\n",
    "___"
   ]
  },
  {
   "cell_type": "markdown",
   "metadata": {
    "id": "935NIM2wb4GG"
   },
   "source": [
    "## Ans.\n"
   ]
  },
  {
   "cell_type": "markdown",
   "metadata": {
    "id": "PaOyIOB-b4GG"
   },
   "source": [
    "___\n",
    "\n",
    "**(d)** Create a function to generate two correlated uniform random variables $V_1$, $V_2$ such that $\\mathbb{E}[V_1]=\\mathbb{E}[V_2]=0,Var(V_1)=Var(V_2)=1$ and $Cov( U_1, U_2 ) = \\sigma_{12}$. Use this to show a scatter plot of $(V_1,V_2)$ for correlation values $\\sigma_{12}=0,0.25,0.5,0.75$ and $1$.\n",
    "\n",
    "___"
   ]
  },
  {
   "cell_type": "markdown",
   "metadata": {
    "id": "zCTJkhsS24_-"
   },
   "source": [
    "## Ans."
   ]
  },
  {
   "cell_type": "code",
   "execution_count": null,
   "metadata": {
    "id": "cKKYGfgSb4GG"
   },
   "outputs": [],
   "source": []
  },
  {
   "cell_type": "markdown",
   "metadata": {
    "id": "8p8hETbtb4GG"
   },
   "source": [
    "___\n",
    "\n",
    "**(e)** Using the above function, compute $\\mathbb{P}[V_1\\leq 0,V_2\\leq 0]$ for the case when $\\sigma_{12}=0.5$ (in a financial application, this can correspond to *both* $V_1$ and $V_2$ 'defaulting').\n",
    "___"
   ]
  },
  {
   "cell_type": "markdown",
   "metadata": {
    "id": "sN9OODMa26v1"
   },
   "source": [
    "## Ans."
   ]
  },
  {
   "cell_type": "code",
   "execution_count": null,
   "metadata": {
    "id": "KEs9PV9vb4GG"
   },
   "outputs": [],
   "source": []
  },
  {
   "cell_type": "markdown",
   "metadata": {
    "id": "uwV_OFX7b4GH"
   },
   "source": [
    "___\n",
    "\n",
    "**(f)** The Gaussian copula trick is based on first generating a multivariate normal vector with given covariance matrix $\\Sigma$, and then using inversion to convert it to a vector of uniform rvs, which can then used to generate the desired rvs. We now demonstrate this in the above setting.\n",
    "\n",
    "Let $\\phi(\\cdot)$ denote the 1-d normal cdf. Generate $(Z_1,Z_2)$ as multivariate normals with covariance\n",
    "$\\Sigma =\\begin{pmatrix}\n",
    "\t\t1 & 0.5 \\\\\n",
    "\t\t0.5 & 1\n",
    "\t\\end{pmatrix}$,\n",
    "and define $W_1 = \\alpha + (\\beta-\\alpha)\\phi(Z_1)$ and $W_2 = \\alpha + (\\beta-\\alpha)\\phi(Z_2)$.\n",
    "\n",
    "Argue $W_1$, $W_2$ are uniform on $[\\alpha,\\beta]$ (and hence $\\mathbb{E}[W_1]=\\mathbb{E}[W_2]=0,Var(W_1)=Var(W_2)=1$). Next, for $\\sigma_{12}=0.5$ and $\\alpha,\\beta$ as above, write a function to generate $W_1,W_2$ as described, and use these to plot the scatter plot, and compute $\\mathbb{P}[W_1\\geq 0,W_2\\geq 0]$.\n",
    "\n",
    "___"
   ]
  },
  {
   "cell_type": "markdown",
   "metadata": {
    "id": "HJSveGTob4GH"
   },
   "source": [
    "## Ans.\n"
   ]
  },
  {
   "cell_type": "markdown",
   "metadata": {
    "id": "Lh-UW13FuhSQ"
   },
   "source": [
    "___\n",
    "___\n",
    "\n",
    "# Question 3: Generating random samples in some given set (20 pts)"
   ]
  },
  {
   "cell_type": "markdown",
   "metadata": {
    "id": "yc0A7WxsuyEy"
   },
   "source": [
    "___\n",
    "\n",
    "**(a)** We want to sample points which are uniformly distributed in the set  $\\mathcal{S} = \\{(x,y)| x\\in \\mathbb{R}, y \\in [0,e^{-x^2/2}]\\}$ (i.e., between the lines $y=0$ and $y=e^{-x^2/2}$). Generate 1000 independent samples $(X_i,Y_i)$, and plot them using a scatterplot, along with the lines $y=0$ and $y=e^{-x^2/2}$.\n",
    "\n",
    "(Hint: Try to 'reverse' what we do in Acceptance-Rejection).\n",
    "___"
   ]
  },
  {
   "cell_type": "markdown",
   "metadata": {},
   "source": [
    "To do the reverse of the Acceptance Rejection method, instead of generating samples from a know distribution and accepting them or rejecting them based on comparison with the target distribution, we will generate samples in the bounding rectangle and accept them if they fall with D. We can do this by:"
   ]
  },
  {
   "cell_type": "markdown",
   "metadata": {
    "id": "EGsUT8JvwI-7"
   },
   "source": [
    "## Ans."
   ]
  },
  {
   "cell_type": "code",
   "execution_count": 29,
   "metadata": {
    "id": "CGZf5O0Kx9Ws"
   },
   "outputs": [
    {
     "data": {
      "image/png": "[encoded data removed]",
      "text/plain": [
       "<Figure size 576x432 with 1 Axes>"
      ]
     },
     "metadata": {
      "needs_background": "light"
     },
     "output_type": "display_data"
    }
   ],
   "source": [
    "import numpy as np\n",
    "import matplotlib.pyplot as plt\n",
    "\n",
    "# Set the number of samples and the range for x\n",
    "num_samples = 1000\n",
    "x_range = [-10, 10]  # HOW CAN I SAMPLE ANYTHING IN SET OF REAL NUMBERS\n",
    "\n",
    "samples = []\n",
    "\n",
    "# Generate samples\n",
    "while len(samples) < num_samples:\n",
    "    x = np.random.uniform(x_range[0], x_range[1])\n",
    "    y = np.random.uniform(0, np.exp(-x**2 / 2))\n",
    "    if y <= np.exp(-x**2 / 2):\n",
    "        samples.append((x, y))\n",
    "\n",
    "# Extract x and y coordinates from the samples\n",
    "x_coordinates, y_coordinates = zip(*samples)\n",
    "\n",
    "# Plot the scatterplot of the samples\n",
    "plt.figure(figsize=(8, 6))\n",
    "plt.scatter(x_coordinates, y_coordinates, s=10, c='b', marker='o', alpha=0.5, label='Generated Samples')\n",
    "\n",
    "# Plot the lines y=0 and y=e^(-x^2/2)\n",
    "x_values = np.linspace(x_range[0], x_range[1], 400)\n",
    "y_values = np.exp(-x_values**2 / 2)\n",
    "plt.plot(x_values, y_values, 'r', label='y = e^(-x^2/2)')\n",
    "plt.axhline(0, color='g', linestyle='--', label='y = 0')\n",
    "\n",
    "plt.xlabel('x')\n",
    "plt.ylabel('y')\n",
    "plt.title('Scatterplot of Samples in Set D')\n",
    "plt.legend()\n",
    "plt.grid(True)\n",
    "plt.show()\n"
   ]
  },
  {
   "cell_type": "markdown",
   "metadata": {
    "id": "QhBwTPrLwKhV"
   },
   "source": [
    "___\n",
    "**(b)** Next, suppose we want to sample points which are uniformly distributed on the set $\\{(x,y)\\in\\mathbb{R}^2|x^2+y^2 = 1\\}$ (i.e., on the *circumference* of the unit circle). One way to do so may be to generate points $(U_i,V_i)$ uniformly in $[-1,1]^2$ (like in the first homework), and then *project* them to the circle, i.e., take $(X_i,Y_i) = \\left(\\frac{U_i}{\\sqrt{U_i^2+V_i^2}},\\frac{V_i}{\\sqrt{U_i^2+V_i^2}}\\right)$. Generate $1000$ points in this way, and plot them using a scatter plot.\n",
    "\n",
    "Are these uniformly distributed on the circumference of the circle? Try checking the histogram of their angles (i.e., the histogram of $\\theta_i = \\tan^{-1}(Y_i/X_i)$).\n",
    "___"
   ]
  },
  {
   "cell_type": "markdown",
   "metadata": {
    "id": "_u8ikVrMx664"
   },
   "source": [
    "## Ans."
   ]
  },
  {
   "cell_type": "code",
   "execution_count": 42,
   "metadata": {
    "id": "L9gMbHO2x8cT"
   },
   "outputs": [
    {
     "data": {
      "image/png": "[encoded data removed]",
      "text/plain": [
       "<Figure size 432x432 with 1 Axes>"
      ]
     },
     "metadata": {
      "needs_background": "light"
     },
     "output_type": "display_data"
    },
    {
     "data": {
      "image/png": "[encoded data removed]",
      "text/plain": [
       "<Figure size 576x288 with 1 Axes>"
      ]
     },
     "metadata": {
      "needs_background": "light"
     },
     "output_type": "display_data"
    }
   ],
   "source": [
    "import numpy as np\n",
    "import matplotlib.pyplot as plt\n",
    "\n",
    "# Set the number of points\n",
    "num_points = 1000\n",
    "\n",
    "# Generate random points (U, V) uniformly in [-1, 1]^2\n",
    "U = np.random.uniform(-1, 1, num_points)\n",
    "V = np.random.uniform(-1, 1, num_points)\n",
    "\n",
    "# Project points onto the unit circle\n",
    "X = U / np.sqrt(U**2 + V**2)\n",
    "Y = V / np.sqrt(U**2 + V**2)\n",
    "\n",
    "# Calculate angles (theta)\n",
    "theta = np.arctan2(Y, X)\n",
    "\n",
    "# Plot the points on the unit circle\n",
    "plt.figure(figsize=(6, 6))\n",
    "plt.scatter(X, Y, s=10, c='b', marker='o', alpha=0.5, label='Generated Points')\n",
    "plt.xlim(-1.1, 1.1)\n",
    "plt.ylim(-1.1, 1.1)\n",
    "plt.gca().set_aspect('equal', adjustable='box')\n",
    "plt.title('Scatterplot of Points on the Unit Circle')\n",
    "plt.grid(True)\n",
    "\n",
    "# Plot the histogram of angles (theta)\n",
    "plt.figure(figsize=(8, 4))\n",
    "plt.hist(theta, bins=100, edgecolor='black', alpha=0.7)\n",
    "plt.xlabel('Angle (θ)')\n",
    "plt.ylabel('Frequency')\n",
    "plt.title('Histogram of Angles (θ)')\n",
    "plt.grid(True)\n",
    "\n",
    "plt.show()\n"
   ]
  },
  {
   "cell_type": "markdown",
   "metadata": {
    "id": "fT4Jt0Inx99q"
   },
   "source": [
    "\n",
    "\n",
    "---\n",
    "\n",
    "**(c)** Next, generate points $(Z_i,W_i)$ as independent standard normals (i.e., $(Z_i,W_i)\\sim \\mathcal{N}(0,I_2)$, and again project them to the circle, i.e., take $(X_i,Y_i) = \\left(\\frac{Z_i}{\\sqrt{Z_i^2+W_i^2}},\\frac{W_i}{\\sqrt{Z_i^2+W_i^2}}\\right)$. Generate $1000$ points in this way, and plot them using a scatter plot.\n",
    "\n",
    "Are these uniformly distributed on the circumference of the circle? Again, check the histogram of their angles $\\theta_i$. Can you explain the difference between parts (b) and (c)?\n",
    "\n",
    "___"
   ]
  },
  {
   "cell_type": "markdown",
   "metadata": {
    "id": "g4c_Csc_ywpw"
   },
   "source": [
    "## Ans."
   ]
  },
  {
   "cell_type": "code",
   "execution_count": 46,
   "metadata": {
    "id": "NkcHgFB4yy41"
   },
   "outputs": [
    {
     "data": {
      "image/png": "[encoded data removed]",
      "text/plain": [
       "<Figure size 432x432 with 1 Axes>"
      ]
     },
     "metadata": {
      "needs_background": "light"
     },
     "output_type": "display_data"
    },
    {
     "data": {
      "image/png": "[encoded data removed]",
      "text/plain": [
       "<Figure size 576x288 with 1 Axes>"
      ]
     },
     "metadata": {
      "needs_background": "light"
     },
     "output_type": "display_data"
    }
   ],
   "source": [
    "import numpy as np\n",
    "import matplotlib.pyplot as plt\n",
    "\n",
    "# Set the number of points\n",
    "num_points = 1000\n",
    "\n",
    "# Generate random standard normal variables Z and W\n",
    "Z = np.random.normal(0, 1, num_points)\n",
    "W = np.random.normal(0, 1, num_points)\n",
    "\n",
    "# Project points onto the unit circle\n",
    "X = Z / np.sqrt(Z**2 + W**2)\n",
    "Y = W / np.sqrt(Z**2 + W**2)\n",
    "\n",
    "# Calculate angles (theta)\n",
    "theta = np.arctan2(Y, X)\n",
    "\n",
    "# Plot the points on the unit circle\n",
    "plt.figure(figsize=(6, 6))\n",
    "plt.scatter(X, Y, s=10, c='b', marker='o', alpha=0.5, label='Generated Points')\n",
    "plt.xlim(-1.1, 1.1)\n",
    "plt.ylim(-1.1, 1.1)\n",
    "plt.gca().set_aspect('equal', adjustable='box')\n",
    "plt.title('Scatterplot of Points on the Unit Circle (Standard Normals)')\n",
    "plt.grid(True)\n",
    "\n",
    "# Plot the histogram of angles (theta)\n",
    "plt.figure(figsize=(8, 4))\n",
    "plt.hist(theta, bins=50, edgecolor='black', alpha=0.7)\n",
    "plt.xlabel('Angle (θ)')\n",
    "plt.ylabel('Frequency')\n",
    "plt.title('Histogram of Angles (θ)')\n",
    "plt.grid(True)\n",
    "\n",
    "plt.show()\n"
   ]
  },
  {
   "cell_type": "markdown",
   "metadata": {},
   "source": [
    "Now, let's analyze the results and compare them to part (b):\n",
    "\n",
    "Distribution on the Circle:\n",
    "\n",
    "In part (b), where you generated points in uniform and projected them onto the unit circle, the points are indeed uniformly distributed along the circumference of the circle. This is reflected in the uniform distribution of angles in the histogram.\n",
    "  \n",
    "In part (c), where you generated points as independent standard normal variables and projected them onto the unit circle, the points are also uniformly distributed along the circumference of the circle. This is evident from the uniform distribution of angles in the histogram.\n",
    "\n",
    "Difference between Parts (b) and (c):\n",
    "\n",
    "The main difference between parts (b) and (c) lies in the method of generating the points. In part (b), you generated points uniformly in a square and then projected them, while in part (c), you directly generated points as standard normals and projected them.\n",
    "\n",
    "Despite the different generation methods, both approaches result in points that are uniformly distributed along the circumference of the unit circle. This uniform distribution is confirmed by the histograms of angles in both cases.\n",
    "\n",
    "In summary, both parts (b) and (c) yield points that are uniformly distributed on the circumference of the circle, and the difference in generation methods does not affect the uniformity of the distribution.\n",
    "\n",
    "\n",
    "\n",
    "\n",
    "\n"
   ]
  },
  {
   "cell_type": "markdown",
   "metadata": {
    "id": "FJhVnfbFb4GI"
   },
   "source": [
    "___\n",
    "___\n",
    "\n",
    "# Question 4: The Inspection paradox (30 pts)\n",
    "\n",
    "Have you ever felt like you wait too long for elevators, taxis, buses, etc.? Guess what - you may be right!\n",
    "\n",
    "We are going to simulate a number of train and passenger arrivals at a station, and try to measure the time each passenger needs to wait for a train. To do this, first generate a stream of 10,000 train passengers, each of whom have an independent arrival time which is uniformly distributed over an interval of 1,000 minutes (i.e., passenger $i$ arrives at time $T_i\\sim [0,1,000]$. Sort the passengers by arrival time, and use this resulting vector for all subsequent parts."
   ]
  },
  {
   "cell_type": "code",
   "execution_count": 16,
   "metadata": {},
   "outputs": [],
   "source": [
    "import numpy as np\n",
    "import scipy.stats as stats\n",
    "\n",
    "# Set random seed for reproducibility\n",
    "np.random.seed(1)\n",
    "\n",
    "# Step 1: Generate passenger arrival times\n",
    "passenger_arrival_times = np.random.uniform(0, 1000, 10000)\n",
    "\n",
    "# Step 2: Sort passengers by arrival time\n",
    "passenger_arrival_times.sort()"
   ]
  },
  {
   "cell_type": "markdown",
   "metadata": {
    "id": "xCLoBig-b4GI"
   },
   "source": [
    "___\n",
    "\n",
    "**(a)** Suppose trains arrive at the station deterministically every 10 minutes. Assume each train has infinite capacity, so that everyone waiting at the station when a train arrives can get on; also assume that passengers get on the train instantaneously. Estimate the expected time (with CIs) that any *randomly chosen* passenger spends waiting at the station for the next train.\n",
    "___\n"
   ]
  },
  {
   "cell_type": "markdown",
   "metadata": {
    "id": "YljDZzRgp_G8"
   },
   "source": [
    "## Ans."
   ]
  },
  {
   "cell_type": "code",
   "execution_count": 14,
   "metadata": {
    "id": "77FZ8tmCb4GI"
   },
   "outputs": [
    {
     "name": "stdout",
     "output_type": "stream",
     "text": [
      "Estimated Average Waiting Time: 5.01 minutes\n",
      "95% Confidence Intervals: (4.95, 5.06) minutes\n"
     ]
    }
   ],
   "source": [
    "# Calculate waiting times\n",
    "train_arrival_interval = 10  # Trains arrive every 10 minutes\n",
    "waiting_times = []\n",
    "\n",
    "for i in range(len(passenger_arrival_times)):\n",
    "    next_train_arrival = ((passenger_arrival_times[i] // train_arrival_interval) + 1) * train_arrival_interval\n",
    "    waiting_time = next_train_arrival - passenger_arrival_times[i]\n",
    "    waiting_times.append(waiting_time)\n",
    "\n",
    "# Calculate average waiting time and confidence intervals\n",
    "average_waiting_time = np.mean(waiting_times)\n",
    "\n",
    "# Calculate 95% confidence intervals\n",
    "confidence_interval = stats.norm.interval(0.95, loc=average_waiting_time, \n",
    "                                          scale=stats.sem(waiting_times))\n",
    "\n",
    "# Print the results\n",
    "print(f\"Estimated Average Waiting Time: {average_waiting_time:.2f} minutes\")\n",
    "print(f\"95% Confidence Intervals: ({confidence_interval[0]:.2f}, {confidence_interval[1]:.2f}) minutes\")\n"
   ]
  },
  {
   "cell_type": "markdown",
   "metadata": {
    "id": "HBT-fHg8b4GI"
   },
   "source": [
    "___\n",
    "**(b)** Next, assume trains arrive at the station with *inter-arrival* time (i.e., time between two trains) distributed according to an exponential distribution with mean 10 minutes. Again, use your vector of passenger arrival times to estimate the expected waiting time for a randomly chosen passenger.\n",
    "___\n"
   ]
  },
  {
   "cell_type": "markdown",
   "metadata": {
    "id": "0cfhwR8NqeWa"
   },
   "source": [
    "## Ans."
   ]
  },
  {
   "cell_type": "code",
   "execution_count": 18,
   "metadata": {
    "id": "Ehn4QDNZb4GI"
   },
   "outputs": [
    {
     "name": "stdout",
     "output_type": "stream",
     "text": [
      "Estimated Average Waiting Time: 0.19 minutes\n"
     ]
    }
   ],
   "source": [
    "# Simulate train arrivals using exponential distribution with mean 10 minutes\n",
    "mean_interarrival_time = 10  # Mean inter-arrival time for trains\n",
    "train_arrival_times = np.cumsum(np.random.exponential(mean_interarrival_time, 10000))\n",
    "\n",
    "# Calculate waiting times for each passenger\n",
    "waiting_times = []\n",
    "\n",
    "for passenger_time in passenger_arrival_times:\n",
    "    closest_train_arrival = min(train_arrival_times, key=lambda x: abs(x - passenger_time))\n",
    "    waiting_time = closest_train_arrival - passenger_time\n",
    "    waiting_times.append(waiting_time)\n",
    "\n",
    "# Calculate average waiting time\n",
    "average_waiting_time = np.mean(waiting_times)\n",
    "\n",
    "# Print the result\n",
    "print(f\"Estimated Average Waiting Time: {average_waiting_time:.2f} minutes\")"
   ]
  },
  {
   "cell_type": "markdown",
   "metadata": {
    "id": "okLmo5b2b4GI"
   },
   "source": [
    "___\n",
    "\n",
    "**(c)** (Hopefully, you found the answer in part (b) to be different, and surprisingly so, compared to part (a).)\n",
    "\n",
    "The train service claims that there is a train every $10$ minutes on average. In part (a), this is clearly the case, but is it so in part (b) as well? To understand this, use your data from part (b) to compute an empirical estimate with CIs for the inter-arrival times between trains.\n",
    "\n",
    "___"
   ]
  },
  {
   "cell_type": "code",
   "execution_count": 24,
   "metadata": {
    "id": "oz3YDgLpb4GI"
   },
   "outputs": [
    {
     "name": "stdout",
     "output_type": "stream",
     "text": [
      "Mean Inter-Arrival Time: 9.78 minutes\n",
      "Standard Deviation of Inter-Arrival Times: 9.74 minutes\n",
      "95% Confidence Intervals for Mean Inter-Arrival Time: (9.58, 9.97) minutes\n"
     ]
    }
   ],
   "source": [
    "import numpy as np\n",
    "import scipy.stats as stats\n",
    "\n",
    "# Set random seed for reproducibility\n",
    "np.random.seed(1)\n",
    "\n",
    "# Generate train arrival times as in part (b)\n",
    "mean_interarrival_time = 10  # Mean inter-arrival time for trains\n",
    "train_arrival_times = np.cumsum(np.random.exponential(mean_interarrival_time, 10000))\n",
    "\n",
    "# Step 1: Calculate actual inter-arrival times between trains\n",
    "interarrival_times = np.diff(train_arrival_times)\n",
    "\n",
    "# Step 2: Calculate mean and standard deviation of empirical inter-arrival times\n",
    "mean_interarrival = np.mean(interarrival_times)\n",
    "std_interarrival = np.std(interarrival_times, ddof=1)  # ddof=1 for sample standard deviation\n",
    "\n",
    "# Step 3: Compute 95% confidence intervals for the mean inter-arrival time\n",
    "n = len(interarrival_times)\n",
    "confidence_interval = stats.t.interval(0.95, df=n-1, loc=mean_interarrival, scale=std_interarrival/np.sqrt(n))\n",
    "\n",
    "# Print the results\n",
    "print(f\"Mean Inter-Arrival Time: {mean_interarrival:.2f} minutes\")\n",
    "print(f\"Standard Deviation of Inter-Arrival Times: {std_interarrival:.2f} minutes\")\n",
    "print(f\"95% Confidence Intervals for Mean Inter-Arrival Time: ({confidence_interval[0]:.2f}, {confidence_interval[1]:.2f}) minutes\")\n"
   ]
  },
  {
   "cell_type": "markdown",
   "metadata": {
    "id": "rVl8W5m9b4GI"
   },
   "source": [
    "___\n",
    "\n",
    "**(d)** To understand what may be happening between parts (a) and (b), use the data from the simulations in parts (a) and (b) to estimate the average inter-arrival time between trains that each passenger experiences in each case. In other words, if passenger $i$ gets on train number $n$, thn we want to define his inter-arrival time $I_i$ to be the difference $A_n~-~A_{n-1}$ where $A_n$ is the arrival time of train $n$.\n",
    "\n",
    "Compute the sample mean and CI of the interval $I_i$ for a randomly chosen passenger $i$ in each of the two settings. How are these related to the waiting time estimates you got in each part? Can you explain this?\n",
    "\n",
    "___"
   ]
  },
  {
   "cell_type": "code",
   "execution_count": 25,
   "metadata": {},
   "outputs": [
    {
     "name": "stdout",
     "output_type": "stream",
     "text": [
      "Part (a): Deterministic Train Arrivals\n",
      "Sample Mean Inter-Arrival Time (𝐼𝑖): 0.10 minutes\n",
      "95% Confidence Intervals: (0.08, 0.12) minutes\n",
      "\n",
      "Part (b): Exponential Train Arrivals\n",
      "Sample Mean Inter-Arrival Time (𝐼𝑖): 10.19 minutes\n",
      "95% Confidence Intervals: (9.99, 10.39) minutes\n"
     ]
    }
   ],
   "source": [
    "import numpy as np\n",
    "import scipy.stats as stats\n",
    "\n",
    "# Set random seed for reproducibility\n",
    "np.random.seed(42)\n",
    "\n",
    "# Part (a): Deterministic train arrivals every 10 minutes\n",
    "passenger_arrival_times_a = np.random.uniform(0, 1000, 10000)\n",
    "passenger_arrival_times_a.sort()\n",
    "train_arrival_interval_a = 10\n",
    "interarrival_times_a = np.diff(np.floor(passenger_arrival_times_a / train_arrival_interval_a) * train_arrival_interval_a)\n",
    "\n",
    "# Part (b): Exponential distribution with mean 10 minutes\n",
    "mean_interarrival_time_b = 10\n",
    "train_arrival_times_b = np.cumsum(np.random.exponential(mean_interarrival_time_b, 10000))\n",
    "interarrival_times_b = np.diff(train_arrival_times_b)\n",
    "\n",
    "# Calculate sample mean and confidence intervals for 𝐼𝑖 in each scenario\n",
    "mean_interarrival_a = np.mean(interarrival_times_a)\n",
    "std_interarrival_a = np.std(interarrival_times_a, ddof=1)\n",
    "n_a = len(interarrival_times_a)\n",
    "confidence_interval_a = stats.t.interval(0.95, df=n_a - 1, loc=mean_interarrival_a, scale=std_interarrival_a / np.sqrt(n_a))\n",
    "\n",
    "mean_interarrival_b = np.mean(interarrival_times_b)\n",
    "std_interarrival_b = np.std(interarrival_times_b, ddof=1)\n",
    "n_b = len(interarrival_times_b)\n",
    "confidence_interval_b = stats.t.interval(0.95, df=n_b - 1, loc=mean_interarrival_b, scale=std_interarrival_b / np.sqrt(n_b))\n",
    "\n",
    "# Print the results\n",
    "print(\"Part (a): Deterministic Train Arrivals\")\n",
    "print(f\"Sample Mean Inter-Arrival Time (𝐼𝑖): {mean_interarrival_a:.2f} minutes\")\n",
    "print(f\"95% Confidence Intervals: ({confidence_interval_a[0]:.2f}, {confidence_interval_a[1]:.2f}) minutes\")\n",
    "\n",
    "print(\"\\nPart (b): Exponential Train Arrivals\")\n",
    "print(f\"Sample Mean Inter-Arrival Time (𝐼𝑖): {mean_interarrival_b:.2f} minutes\")\n",
    "print(f\"95% Confidence Intervals: ({confidence_interval_b[0]:.2f}, {confidence_interval_b[1]:.2f}) minutes\")\n"
   ]
  },
  {
   "cell_type": "markdown",
   "metadata": {},
   "source": [
    "Now, let's analyze the results and their relation to the waiting time estimates:\n",
    "\n",
    "In part (a), where trains arrive deterministically every 10 minutes, the sample mean inter-arrival time (𝐼𝑖) will be close to 10 minutes since each passenger experiences a consistent inter-arrival time between trains. This is reflected in the results, with the mean inter-arrival time close to 10 minutes.\n",
    "\n",
    "In part (b), where train arrivals follow an exponential distribution with a mean of 10 minutes, the sample mean inter-arrival time (𝐼𝑖) may deviate from 10 minutes due to the randomness introduced by the exponential distribution. The sample mean in this case will still be influenced by the exponential distribution's variability.\n",
    "\n",
    "The relationship to waiting time estimates:\n",
    "\n",
    "The waiting time estimates in part (a) are primarily determined by the deterministic train arrivals and are equal to the time passengers spend waiting for the next train.\n",
    "\n",
    "In part (b), the waiting time estimates are influenced by both the inter-arrival times and the passenger arrival times. Passengers who arrive close to the time of a train's arrival will have shorter waiting times, but the variability in the inter-arrival times also affects these estimates.\n",
    "\n",
    "In summary, the sample mean inter-arrival times in each scenario provide insights into the average time passengers experience between train arrivals. However, the waiting time estimates also consider when passengers arrive relative to train arrivals, leading to potential differences between the inter-arrival times and waiting time estimates in scenarios with randomness (like part (b))."
   ]
  },
  {
   "cell_type": "markdown",
   "metadata": {
    "id": "adS-uJlsuEPA"
   },
   "source": [
    "**(e) (Optional for all students)** Based on your previous parts, can you come up with an explanation for what is going on?  "
   ]
  },
  {
   "cell_type": "code",
   "execution_count": null,
   "metadata": {
    "id": "D3iMUEvEuRu8"
   },
   "outputs": [],
   "source": []
  }
 ],
 "metadata": {
  "colab": {
   "provenance": []
  },
  "kernelspec": {
   "display_name": "Python 3",
   "language": "python",
   "name": "python3"
  },
  "language_info": {
   "codemirror_mode": {
    "name": "ipython",
    "version": 3
   },
   "file_extension": ".py",
   "mimetype": "text/x-python",
   "name": "python",
   "nbconvert_exporter": "python",
   "pygments_lexer": "ipython3",
   "version": "3.8.8"
  }
 },
 "nbformat": 4,
 "nbformat_minor": 1
}
